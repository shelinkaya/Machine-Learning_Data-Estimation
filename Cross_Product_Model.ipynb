{
 "cells": [
  {
   "cell_type": "code",
   "execution_count": 1,
   "id": "8a48af8e-1dd8-482c-b87c-e5ebf04acc5d",
   "metadata": {},
   "outputs": [],
   "source": [
    "#Importing required packages\n",
    "\n",
    "import torch\n",
    "import pandas as pd\n",
    "import numpy as np\n",
    "import torch.nn as nn\n",
    "import matplotlib.pyplot as plt\n",
    "from sklearn.model_selection import train_test_split\n",
    "from sklearn.metrics import mean_absolute_error\n"
   ]
  },
  {
   "cell_type": "code",
   "execution_count": 2,
   "id": "70db7dde-768e-4747-b8e7-967df83362c7",
   "metadata": {},
   "outputs": [
    {
     "data": {
      "text/html": [
       "<div>\n",
       "<style scoped>\n",
       "    .dataframe tbody tr th:only-of-type {\n",
       "        vertical-align: middle;\n",
       "    }\n",
       "\n",
       "    .dataframe tbody tr th {\n",
       "        vertical-align: top;\n",
       "    }\n",
       "\n",
       "    .dataframe thead th {\n",
       "        text-align: right;\n",
       "    }\n",
       "</style>\n",
       "<table border=\"1\" class=\"dataframe\">\n",
       "  <thead>\n",
       "    <tr style=\"text-align: right;\">\n",
       "      <th></th>\n",
       "      <th>#</th>\n",
       "      <th>Stitch_number_modified</th>\n",
       "      <th>Stitch_path_length</th>\n",
       "      <th>x</th>\n",
       "      <th>y</th>\n",
       "      <th>measured_x1</th>\n",
       "      <th>measured_y1</th>\n",
       "      <th>measured_x2</th>\n",
       "      <th>measured_y2</th>\n",
       "      <th>measured_xm</th>\n",
       "      <th>measured_ym</th>\n",
       "      <th>Deviation_tot</th>\n",
       "      <th>Width</th>\n",
       "      <th>Radius_loc</th>\n",
       "      <th>Radius_locav</th>\n",
       "      <th>Radius_locav2</th>\n",
       "      <th>Radius_locav3</th>\n",
       "    </tr>\n",
       "  </thead>\n",
       "  <tbody>\n",
       "    <tr>\n",
       "      <th>0</th>\n",
       "      <td>1</td>\n",
       "      <td>1</td>\n",
       "      <td>0.0000</td>\n",
       "      <td>511.3638</td>\n",
       "      <td>-19.0811</td>\n",
       "      <td>510.8245</td>\n",
       "      <td>-17.9730</td>\n",
       "      <td>511.8639</td>\n",
       "      <td>-20.1088</td>\n",
       "      <td>511.3442</td>\n",
       "      <td>-19.0409</td>\n",
       "      <td>0.0447</td>\n",
       "      <td>2.3753</td>\n",
       "      <td>inf</td>\n",
       "      <td>299.8505</td>\n",
       "      <td>17.5033</td>\n",
       "      <td>11.7315</td>\n",
       "    </tr>\n",
       "    <tr>\n",
       "      <th>1</th>\n",
       "      <td>2</td>\n",
       "      <td>1</td>\n",
       "      <td>0.9591</td>\n",
       "      <td>512.3229</td>\n",
       "      <td>-19.0894</td>\n",
       "      <td>511.7820</td>\n",
       "      <td>-18.0891</td>\n",
       "      <td>512.8518</td>\n",
       "      <td>-20.0677</td>\n",
       "      <td>512.3169</td>\n",
       "      <td>-19.0784</td>\n",
       "      <td>0.0125</td>\n",
       "      <td>2.2493</td>\n",
       "      <td>inf</td>\n",
       "      <td>150.5194</td>\n",
       "      <td>15.6020</td>\n",
       "      <td>11.2740</td>\n",
       "    </tr>\n",
       "    <tr>\n",
       "      <th>2</th>\n",
       "      <td>3</td>\n",
       "      <td>1</td>\n",
       "      <td>1.9183</td>\n",
       "      <td>513.2820</td>\n",
       "      <td>-19.0977</td>\n",
       "      <td>512.7094</td>\n",
       "      <td>-18.1517</td>\n",
       "      <td>513.8795</td>\n",
       "      <td>-20.0851</td>\n",
       "      <td>513.2945</td>\n",
       "      <td>-19.1184</td>\n",
       "      <td>0.0242</td>\n",
       "      <td>2.2598</td>\n",
       "      <td>inf</td>\n",
       "      <td>81.0540</td>\n",
       "      <td>13.9990</td>\n",
       "      <td>10.8555</td>\n",
       "    </tr>\n",
       "    <tr>\n",
       "      <th>3</th>\n",
       "      <td>4</td>\n",
       "      <td>1</td>\n",
       "      <td>2.9018</td>\n",
       "      <td>514.2654</td>\n",
       "      <td>-19.1060</td>\n",
       "      <td>513.6625</td>\n",
       "      <td>-18.2269</td>\n",
       "      <td>514.9383</td>\n",
       "      <td>-20.0871</td>\n",
       "      <td>514.3004</td>\n",
       "      <td>-19.1570</td>\n",
       "      <td>0.0618</td>\n",
       "      <td>2.2557</td>\n",
       "      <td>-146.6106</td>\n",
       "      <td>45.6545</td>\n",
       "      <td>12.6165</td>\n",
       "      <td>10.4644</td>\n",
       "    </tr>\n",
       "    <tr>\n",
       "      <th>4</th>\n",
       "      <td>5</td>\n",
       "      <td>1</td>\n",
       "      <td>3.9667</td>\n",
       "      <td>515.3302</td>\n",
       "      <td>-19.1225</td>\n",
       "      <td>514.5880</td>\n",
       "      <td>-18.1910</td>\n",
       "      <td>516.1352</td>\n",
       "      <td>-20.1328</td>\n",
       "      <td>515.3616</td>\n",
       "      <td>-19.1619</td>\n",
       "      <td>0.0504</td>\n",
       "      <td>2.4828</td>\n",
       "      <td>-470.9179</td>\n",
       "      <td>26.2507</td>\n",
       "      <td>11.3705</td>\n",
       "      <td>10.0818</td>\n",
       "    </tr>\n",
       "  </tbody>\n",
       "</table>\n",
       "</div>"
      ],
      "text/plain": [
       "   #  Stitch_number_modified  Stitch_path_length         x        y  \\\n",
       "0  1                       1              0.0000  511.3638 -19.0811   \n",
       "1  2                       1              0.9591  512.3229 -19.0894   \n",
       "2  3                       1              1.9183  513.2820 -19.0977   \n",
       "3  4                       1              2.9018  514.2654 -19.1060   \n",
       "4  5                       1              3.9667  515.3302 -19.1225   \n",
       "\n",
       "   measured_x1  measured_y1  measured_x2  measured_y2  measured_xm  \\\n",
       "0     510.8245     -17.9730     511.8639     -20.1088     511.3442   \n",
       "1     511.7820     -18.0891     512.8518     -20.0677     512.3169   \n",
       "2     512.7094     -18.1517     513.8795     -20.0851     513.2945   \n",
       "3     513.6625     -18.2269     514.9383     -20.0871     514.3004   \n",
       "4     514.5880     -18.1910     516.1352     -20.1328     515.3616   \n",
       "\n",
       "   measured_ym  Deviation_tot   Width  Radius_loc  Radius_locav  \\\n",
       "0     -19.0409         0.0447  2.3753         inf      299.8505   \n",
       "1     -19.0784         0.0125  2.2493         inf      150.5194   \n",
       "2     -19.1184         0.0242  2.2598         inf       81.0540   \n",
       "3     -19.1570         0.0618  2.2557   -146.6106       45.6545   \n",
       "4     -19.1619         0.0504  2.4828   -470.9179       26.2507   \n",
       "\n",
       "   Radius_locav2  Radius_locav3  \n",
       "0        17.5033        11.7315  \n",
       "1        15.6020        11.2740  \n",
       "2        13.9990        10.8555  \n",
       "3        12.6165        10.4644  \n",
       "4        11.3705        10.0818  "
      ]
     },
     "execution_count": 2,
     "metadata": {},
     "output_type": "execute_result"
    }
   ],
   "source": [
    "# Loading dataset\n",
    "df = pd.read_csv(\"testpattern06_d4.0_R3.0_roving.txt\",delim_whitespace=True)\n",
    "df.head()"
   ]
  },
  {
   "cell_type": "code",
   "execution_count": 3,
   "id": "9d5d863c-d1a7-4d9f-a3e1-45529adbf165",
   "metadata": {},
   "outputs": [
    {
     "name": "stdout",
     "output_type": "stream",
     "text": [
      "<class 'pandas.core.frame.DataFrame'>\n",
      "RangeIndex: 2155 entries, 0 to 2154\n",
      "Data columns (total 17 columns):\n",
      " #   Column                  Non-Null Count  Dtype  \n",
      "---  ------                  --------------  -----  \n",
      " 0   #                       2155 non-null   int64  \n",
      " 1   Stitch_number_modified  2155 non-null   int64  \n",
      " 2   Stitch_path_length      2155 non-null   float64\n",
      " 3   x                       2155 non-null   float64\n",
      " 4   y                       2155 non-null   float64\n",
      " 5   measured_x1             2155 non-null   float64\n",
      " 6   measured_y1             2155 non-null   float64\n",
      " 7   measured_x2             2155 non-null   float64\n",
      " 8   measured_y2             2155 non-null   float64\n",
      " 9   measured_xm             2155 non-null   float64\n",
      " 10  measured_ym             2155 non-null   float64\n",
      " 11  Deviation_tot           2155 non-null   float64\n",
      " 12  Width                   2155 non-null   float64\n",
      " 13  Radius_loc              2155 non-null   float64\n",
      " 14  Radius_locav            2155 non-null   float64\n",
      " 15  Radius_locav2           2155 non-null   float64\n",
      " 16  Radius_locav3           2155 non-null   float64\n",
      "dtypes: float64(15), int64(2)\n",
      "memory usage: 286.3 KB\n"
     ]
    }
   ],
   "source": [
    "#checking information of dataset\n",
    "df.info()"
   ]
  },
  {
   "cell_type": "code",
   "execution_count": 4,
   "id": "987f6914",
   "metadata": {},
   "outputs": [
    {
     "data": {
      "text/plain": [
       "array([ 0.0447,  0.0125, -0.0242, ...,  0.0189,  0.3096,  0.6669])"
      ]
     },
     "execution_count": 4,
     "metadata": {},
     "output_type": "execute_result"
    }
   ],
   "source": [
    "#taking the sign of cross product's of x and y values and multiply signs with deviations.\n",
    "\n",
    "x=df['x'].values\n",
    "y=df['y'].values\n",
    "xm=df['measured_xm'].values\n",
    "ym=df['measured_ym'].values\n",
    "deviations_values=df['Deviation_tot'].values\n",
    "xy= np.concatenate((x[:,np.newaxis], y[:,np.newaxis]),axis=1)\n",
    "xmym=np.concatenate((xm[:,np.newaxis], ym[:,np.newaxis]),axis=1)\n",
    "dxym=xmym-xy\n",
    "dxy=xy[1:]-xy[:-1]\n",
    "dxy=np.concatenate((dxy[0,:][np.newaxis,:],dxy),axis=0)\n",
    "cross_product= np.cross(dxy,dxym)\n",
    "deviations=(np.sign(cross_product))*deviations_values\n",
    "deviations"
   ]
  },
  {
   "cell_type": "code",
   "execution_count": 5,
   "id": "f49e6fb1",
   "metadata": {},
   "outputs": [],
   "source": [
    "#Implementing of slicing window method to the dataset\n",
    "n = 5\n",
    "x_values = np.lib.stride_tricks.sliding_window_view(df['x'].values, n)\n",
    "y_values = np.lib.stride_tricks.sliding_window_view(df['y'].values, n)\n",
    "x_v=x_values-x_values[:,n//2][:,np.newaxis]\n",
    "y_v=y_values-y_values[:,n//2][:,np.newaxis]\n",
    "#implement the signed deviations as target\n",
    "target = np.lib.stride_tricks.sliding_window_view(deviations, n)[:,n//2].copy()\n",
    "#concatanate x and y values\n",
    "features = np.concatenate((x_v,y_v), axis=1)\n",
    "# drop 0 columns:\n",
    "features = features[:,[i for i in range(2*n) if i!=n//2 and i!=(n+n//2)]].copy()\n"
   ]
  },
  {
   "cell_type": "code",
   "execution_count": 6,
   "id": "a4c044fb",
   "metadata": {},
   "outputs": [
    {
     "name": "stdout",
     "output_type": "stream",
     "text": [
      "Matrix sizes of input and output data (2151, 8) (2151, 1)\n"
     ]
    }
   ],
   "source": [
    "# random permutation of dataset\n",
    "ind = np.random.permutation(np.arange(len(features))) \n",
    "features = features[ind].copy()\n",
    "target = target[ind].copy()[:,np.newaxis]\n",
    "print(\"Matrix sizes of input and output data\", features.shape, target.shape)"
   ]
  },
  {
   "cell_type": "code",
   "execution_count": 7,
   "id": "6c581ac2",
   "metadata": {},
   "outputs": [],
   "source": [
    "#transforming of features and target values to tensor and splitting the dataset into train and test\n",
    "\n",
    "features = torch.Tensor(features)\n",
    "target = torch.Tensor(target)\n",
    "X_train, X_test, y_train, y_test = train_test_split(features, target, test_size=0.33)\n",
    "\n",
    "\n"
   ]
  },
  {
   "cell_type": "code",
   "execution_count": 17,
   "id": "de078eb4-6404-4da3-af62-d983c6017656",
   "metadata": {},
   "outputs": [],
   "source": [
    "#CNN structure\n",
    "class MyModel(nn.Module):\n",
    "    def __init__(self, n_features):\n",
    "        super(MyModel, self).__init__()\n",
    "        self.layer1 = nn.Linear(n_features, 64)\n",
    "        self.layer2 = nn.Linear(64,32)\n",
    "        self.layer3=nn.Linear(32,16)\n",
    "        self.layer4 = nn.Linear(16,8)\n",
    "        self.layer5 = nn.Linear(8,1)\n",
    "        \n",
    "    def forward(self, x):\n",
    "        x = self.layer1(x)\n",
    "        x = torch.relu(x)\n",
    "        x = self.layer2(x)\n",
    "        x = torch.relu(x)\n",
    "        x = self.layer3(x)\n",
    "        x = torch.relu(x)\n",
    "        x = self.layer4(x)\n",
    "        x = torch.relu(x)\n",
    "        x = self.layer5(x)\n",
    "      \n",
    "        return x"
   ]
  },
  {
   "cell_type": "code",
   "execution_count": 18,
   "id": "357b2d92-7f54-478b-a025-68d57fea399f",
   "metadata": {},
   "outputs": [],
   "source": [
    "#compiling the model\n",
    "model = MyModel(n_features=features.shape[1])\n",
    "criterion = nn.MSELoss()\n",
    "optimizer = torch.optim.Adam(model.parameters())\n",
    "\n"
   ]
  },
  {
   "cell_type": "code",
   "execution_count": 19,
   "id": "2cbb710e-e84f-45ed-aeec-81d2c51af272",
   "metadata": {
    "scrolled": true,
    "tags": []
   },
   "outputs": [
    {
     "name": "stdout",
     "output_type": "stream",
     "text": [
      "Epoch 0, Loss: 2.6767427921295166\n",
      "Epoch 10, Loss: 2.5479140281677246\n",
      "Epoch 20, Loss: 2.5088634490966797\n",
      "Epoch 30, Loss: 2.4780163764953613\n",
      "Epoch 40, Loss: 2.429069757461548\n",
      "Epoch 50, Loss: 2.3458144664764404\n",
      "Epoch 60, Loss: 2.182657480239868\n",
      "Epoch 70, Loss: 1.9404038190841675\n",
      "Epoch 80, Loss: 1.7375059127807617\n",
      "Epoch 90, Loss: 1.6393353939056396\n",
      "Epoch 100, Loss: 1.5376609563827515\n",
      "Epoch 110, Loss: 1.43705415725708\n",
      "Epoch 120, Loss: 1.3446831703186035\n",
      "Epoch 130, Loss: 1.2569600343704224\n",
      "Epoch 140, Loss: 1.182976245880127\n",
      "Epoch 150, Loss: 1.1220580339431763\n",
      "Epoch 160, Loss: 1.0704783201217651\n",
      "Epoch 170, Loss: 1.0217541456222534\n",
      "Epoch 180, Loss: 0.9816129803657532\n",
      "Epoch 190, Loss: 0.9453360438346863\n",
      "Epoch 200, Loss: 0.9103325605392456\n",
      "Epoch 210, Loss: 0.8791688680648804\n",
      "Epoch 220, Loss: 0.8551005721092224\n",
      "Epoch 230, Loss: 0.8342828750610352\n",
      "Epoch 240, Loss: 0.8166621327400208\n",
      "Epoch 250, Loss: 0.8031741380691528\n",
      "Epoch 260, Loss: 0.7913982272148132\n",
      "Epoch 270, Loss: 0.7815873026847839\n",
      "Epoch 280, Loss: 0.7718585729598999\n",
      "Epoch 290, Loss: 0.7646480798721313\n",
      "Epoch 300, Loss: 0.7592558264732361\n",
      "Epoch 310, Loss: 0.7540425658226013\n",
      "Epoch 320, Loss: 0.7507010698318481\n",
      "Epoch 330, Loss: 0.7461709976196289\n",
      "Epoch 340, Loss: 0.7429513931274414\n",
      "Epoch 350, Loss: 0.7389528155326843\n",
      "Epoch 360, Loss: 0.735948383808136\n",
      "Epoch 370, Loss: 0.7331758141517639\n",
      "Epoch 380, Loss: 0.7314471006393433\n",
      "Epoch 390, Loss: 0.7286778092384338\n",
      "Epoch 400, Loss: 0.7256600856781006\n",
      "Epoch 410, Loss: 0.724452555179596\n",
      "Epoch 420, Loss: 0.719616711139679\n",
      "Epoch 430, Loss: 0.7187873125076294\n",
      "Epoch 440, Loss: 0.7158085703849792\n",
      "Epoch 450, Loss: 0.7118236422538757\n",
      "Epoch 460, Loss: 0.7060763239860535\n",
      "Epoch 470, Loss: 0.7017436623573303\n",
      "Epoch 480, Loss: 0.6985681056976318\n",
      "Epoch 490, Loss: 0.6968268156051636\n",
      "Epoch 500, Loss: 0.6937313079833984\n",
      "Epoch 510, Loss: 0.6950342655181885\n",
      "Epoch 520, Loss: 0.6920129060745239\n",
      "Epoch 530, Loss: 0.6884223222732544\n",
      "Epoch 540, Loss: 0.6866860389709473\n",
      "Epoch 550, Loss: 0.6851920485496521\n",
      "Epoch 560, Loss: 0.6836581230163574\n",
      "Epoch 570, Loss: 0.6840489506721497\n",
      "Epoch 580, Loss: 0.6813352108001709\n",
      "Epoch 590, Loss: 0.6802070736885071\n",
      "Epoch 600, Loss: 0.6788956522941589\n",
      "Epoch 610, Loss: 0.6792014837265015\n",
      "Epoch 620, Loss: 0.6776837110519409\n",
      "Epoch 630, Loss: 0.6759684085845947\n",
      "Epoch 640, Loss: 0.675696611404419\n",
      "Epoch 650, Loss: 0.6751564145088196\n",
      "Epoch 660, Loss: 0.6749929785728455\n",
      "Epoch 670, Loss: 0.673496663570404\n",
      "Epoch 680, Loss: 0.6729453206062317\n",
      "Epoch 690, Loss: 0.6760057210922241\n",
      "Epoch 700, Loss: 0.6741382479667664\n",
      "Epoch 710, Loss: 0.6723212003707886\n",
      "Epoch 720, Loss: 0.6716877222061157\n",
      "Epoch 730, Loss: 0.6705831289291382\n",
      "Epoch 740, Loss: 0.6699047088623047\n",
      "Epoch 750, Loss: 0.6694872975349426\n",
      "Epoch 760, Loss: 0.6689957976341248\n",
      "Epoch 770, Loss: 0.6730982661247253\n",
      "Epoch 780, Loss: 0.6700291633605957\n",
      "Epoch 790, Loss: 0.6682039499282837\n",
      "Epoch 800, Loss: 0.6677309274673462\n",
      "Epoch 810, Loss: 0.6669087409973145\n",
      "Epoch 820, Loss: 0.6687543392181396\n",
      "Epoch 830, Loss: 0.6669183969497681\n",
      "Epoch 840, Loss: 0.668046772480011\n",
      "Epoch 850, Loss: 0.6662461757659912\n",
      "Epoch 860, Loss: 0.6654178500175476\n",
      "Epoch 870, Loss: 0.664764404296875\n",
      "Epoch 880, Loss: 0.6660585999488831\n",
      "Epoch 890, Loss: 0.6641772389411926\n",
      "Epoch 900, Loss: 0.6640122532844543\n",
      "Epoch 910, Loss: 0.6660873293876648\n",
      "Epoch 920, Loss: 0.6642016768455505\n",
      "Epoch 930, Loss: 0.6633289456367493\n",
      "Epoch 940, Loss: 0.6627730131149292\n",
      "Epoch 950, Loss: 0.6627160906791687\n",
      "Epoch 960, Loss: 0.6634162068367004\n",
      "Epoch 970, Loss: 0.6617375016212463\n",
      "Epoch 980, Loss: 0.6610509157180786\n",
      "Epoch 990, Loss: 0.6635922193527222\n",
      "Epoch 1000, Loss: 0.6658129096031189\n",
      "Epoch 1010, Loss: 0.6604955196380615\n",
      "Epoch 1020, Loss: 0.6597186326980591\n",
      "Epoch 1030, Loss: 0.6594334244728088\n",
      "Epoch 1040, Loss: 0.65911465883255\n",
      "Epoch 1050, Loss: 0.6585553884506226\n",
      "Epoch 1060, Loss: 0.6581579446792603\n",
      "Epoch 1070, Loss: 0.6586112380027771\n",
      "Epoch 1080, Loss: 0.6594743728637695\n",
      "Epoch 1090, Loss: 0.6576609015464783\n",
      "Epoch 1100, Loss: 0.656800389289856\n",
      "Epoch 1110, Loss: 0.6573966145515442\n",
      "Epoch 1120, Loss: 0.6588954925537109\n",
      "Epoch 1130, Loss: 0.65700763463974\n",
      "Epoch 1140, Loss: 0.6556512713432312\n",
      "Epoch 1150, Loss: 0.6549224257469177\n",
      "Epoch 1160, Loss: 0.6547678112983704\n",
      "Epoch 1170, Loss: 0.6544057726860046\n",
      "Epoch 1180, Loss: 0.6537566184997559\n",
      "Epoch 1190, Loss: 0.6548165678977966\n",
      "Epoch 1200, Loss: 0.6530297994613647\n",
      "Epoch 1210, Loss: 0.652568519115448\n",
      "Epoch 1220, Loss: 0.6579753160476685\n",
      "Epoch 1230, Loss: 0.6560747623443604\n",
      "Epoch 1240, Loss: 0.6516261696815491\n",
      "Epoch 1250, Loss: 0.6512942314147949\n",
      "Epoch 1260, Loss: 0.6506223082542419\n",
      "Epoch 1270, Loss: 0.64995938539505\n",
      "Epoch 1280, Loss: 0.6495776176452637\n",
      "Epoch 1290, Loss: 0.6496652364730835\n",
      "Epoch 1300, Loss: 0.6493197679519653\n",
      "Epoch 1310, Loss: 0.6479229927062988\n",
      "Epoch 1320, Loss: 0.6659369468688965\n",
      "Epoch 1330, Loss: 0.6529018878936768\n",
      "Epoch 1340, Loss: 0.6485314965248108\n",
      "Epoch 1350, Loss: 0.6471478343009949\n",
      "Epoch 1360, Loss: 0.6459207534790039\n",
      "Epoch 1370, Loss: 0.6451786160469055\n",
      "Epoch 1380, Loss: 0.644551694393158\n",
      "Epoch 1390, Loss: 0.6438448429107666\n",
      "Epoch 1400, Loss: 0.644126296043396\n",
      "Epoch 1410, Loss: 0.6437374949455261\n",
      "Epoch 1420, Loss: 0.6422353982925415\n",
      "Epoch 1430, Loss: 0.6412868499755859\n",
      "Epoch 1440, Loss: 0.6408012509346008\n",
      "Epoch 1450, Loss: 0.645479679107666\n",
      "Epoch 1460, Loss: 0.6411342024803162\n",
      "Epoch 1470, Loss: 0.6391597986221313\n",
      "Epoch 1480, Loss: 0.6428492665290833\n",
      "Epoch 1490, Loss: 0.6370455622673035\n",
      "Epoch 1500, Loss: 0.6363879442214966\n",
      "Epoch 1510, Loss: 0.6353971362113953\n",
      "Epoch 1520, Loss: 0.6351316571235657\n",
      "Epoch 1530, Loss: 0.6337867975234985\n",
      "Epoch 1540, Loss: 0.6367570161819458\n",
      "Epoch 1550, Loss: 0.6380388736724854\n",
      "Epoch 1560, Loss: 0.6325740218162537\n",
      "Epoch 1570, Loss: 0.6317325234413147\n",
      "Epoch 1580, Loss: 0.6287845373153687\n",
      "Epoch 1590, Loss: 0.6283726692199707\n",
      "Epoch 1600, Loss: 0.6277868747711182\n",
      "Epoch 1610, Loss: 0.6253400444984436\n",
      "Epoch 1620, Loss: 0.6245064735412598\n",
      "Epoch 1630, Loss: 0.6255682706832886\n",
      "Epoch 1640, Loss: 0.630131185054779\n",
      "Epoch 1650, Loss: 0.6237511038780212\n",
      "Epoch 1660, Loss: 0.6203910112380981\n",
      "Epoch 1670, Loss: 0.6184238791465759\n",
      "Epoch 1680, Loss: 0.6170137524604797\n",
      "Epoch 1690, Loss: 0.6156763434410095\n",
      "Epoch 1700, Loss: 0.6140428781509399\n",
      "Epoch 1710, Loss: 0.6146469712257385\n",
      "Epoch 1720, Loss: 0.6130518317222595\n",
      "Epoch 1730, Loss: 0.6097363233566284\n",
      "Epoch 1740, Loss: 0.6105456948280334\n",
      "Epoch 1750, Loss: 0.6091367602348328\n",
      "Epoch 1760, Loss: 0.6062527894973755\n",
      "Epoch 1770, Loss: 0.6038365960121155\n",
      "Epoch 1780, Loss: 0.6031025648117065\n",
      "Epoch 1790, Loss: 0.5998929142951965\n",
      "Epoch 1800, Loss: 0.6033958196640015\n",
      "Epoch 1810, Loss: 0.5980416536331177\n",
      "Epoch 1820, Loss: 0.6110047101974487\n",
      "Epoch 1830, Loss: 0.6074443459510803\n",
      "Epoch 1840, Loss: 0.6022272109985352\n",
      "Epoch 1850, Loss: 0.5911309719085693\n",
      "Epoch 1860, Loss: 0.5883134007453918\n",
      "Epoch 1870, Loss: 0.5860369205474854\n",
      "Epoch 1880, Loss: 0.5835059881210327\n",
      "Epoch 1890, Loss: 0.5819786787033081\n",
      "Epoch 1900, Loss: 0.5797275304794312\n",
      "Epoch 1910, Loss: 0.5752413868904114\n",
      "Epoch 1920, Loss: 0.5730109214782715\n",
      "Epoch 1930, Loss: 0.5906471610069275\n",
      "Epoch 1940, Loss: 0.5707124471664429\n",
      "Epoch 1950, Loss: 0.569783091545105\n",
      "Epoch 1960, Loss: 0.5679298639297485\n",
      "Epoch 1970, Loss: 0.5655056834220886\n",
      "Epoch 1980, Loss: 0.5637198686599731\n",
      "Epoch 1990, Loss: 0.5733534693717957\n",
      "Epoch 2000, Loss: 0.5669374465942383\n",
      "Epoch 2010, Loss: 0.5536891222000122\n",
      "Epoch 2020, Loss: 0.5625423789024353\n",
      "Epoch 2030, Loss: 0.5576364994049072\n",
      "Epoch 2040, Loss: 0.549238383769989\n",
      "Epoch 2050, Loss: 0.5561203360557556\n",
      "Epoch 2060, Loss: 0.5514195561408997\n",
      "Epoch 2070, Loss: 0.5404189825057983\n",
      "Epoch 2080, Loss: 0.5456830263137817\n",
      "Epoch 2090, Loss: 0.532619833946228\n",
      "Epoch 2100, Loss: 0.5330998301506042\n",
      "Epoch 2110, Loss: 0.5227476954460144\n",
      "Epoch 2120, Loss: 0.5190752744674683\n",
      "Epoch 2130, Loss: 0.5165078639984131\n",
      "Epoch 2140, Loss: 0.5098780393600464\n",
      "Epoch 2150, Loss: 0.5184798240661621\n",
      "Epoch 2160, Loss: 0.5313732624053955\n",
      "Epoch 2170, Loss: 0.5137635469436646\n",
      "Epoch 2180, Loss: 0.5080897808074951\n",
      "Epoch 2190, Loss: 0.500167727470398\n",
      "Epoch 2200, Loss: 0.5029477477073669\n",
      "Epoch 2210, Loss: 0.4985417425632477\n",
      "Epoch 2220, Loss: 0.49422502517700195\n",
      "Epoch 2230, Loss: 0.4833822548389435\n",
      "Epoch 2240, Loss: 0.4753420650959015\n",
      "Epoch 2250, Loss: 0.47977152466773987\n",
      "Epoch 2260, Loss: 0.48341110348701477\n",
      "Epoch 2270, Loss: 0.48281922936439514\n",
      "Epoch 2280, Loss: 0.46430066227912903\n",
      "Epoch 2290, Loss: 0.4713524281978607\n",
      "Epoch 2300, Loss: 0.45676398277282715\n",
      "Epoch 2310, Loss: 0.4596410095691681\n",
      "Epoch 2320, Loss: 0.4441903531551361\n",
      "Epoch 2330, Loss: 0.44721972942352295\n",
      "Epoch 2340, Loss: 0.4530523419380188\n",
      "Epoch 2350, Loss: 0.4412337839603424\n",
      "Epoch 2360, Loss: 0.4345405399799347\n",
      "Epoch 2370, Loss: 0.4267924726009369\n",
      "Epoch 2380, Loss: 0.43074873089790344\n",
      "Epoch 2390, Loss: 0.4318702220916748\n",
      "Epoch 2400, Loss: 0.41594362258911133\n",
      "Epoch 2410, Loss: 0.41101789474487305\n",
      "Epoch 2420, Loss: 0.41013726592063904\n",
      "Epoch 2430, Loss: 0.3967382311820984\n",
      "Epoch 2440, Loss: 0.41512614488601685\n",
      "Epoch 2450, Loss: 0.3867480158805847\n",
      "Epoch 2460, Loss: 0.39364632964134216\n",
      "Epoch 2470, Loss: 0.39554503560066223\n",
      "Epoch 2480, Loss: 0.38108956813812256\n",
      "Epoch 2490, Loss: 0.37606924772262573\n",
      "Epoch 2500, Loss: 0.385144978761673\n",
      "Epoch 2510, Loss: 0.37140944600105286\n",
      "Epoch 2520, Loss: 0.39133453369140625\n",
      "Epoch 2530, Loss: 0.36162009835243225\n",
      "Epoch 2540, Loss: 0.3519447445869446\n",
      "Epoch 2550, Loss: 0.3605263829231262\n",
      "Epoch 2560, Loss: 0.34246981143951416\n",
      "Epoch 2570, Loss: 0.3314523994922638\n",
      "Epoch 2580, Loss: 0.3274794816970825\n",
      "Epoch 2590, Loss: 0.3203144371509552\n",
      "Epoch 2600, Loss: 0.3204413950443268\n",
      "Epoch 2610, Loss: 0.3147210478782654\n",
      "Epoch 2620, Loss: 0.308145672082901\n",
      "Epoch 2630, Loss: 0.32360461354255676\n",
      "Epoch 2640, Loss: 0.2985294759273529\n",
      "Epoch 2650, Loss: 0.29194045066833496\n",
      "Epoch 2660, Loss: 0.2990935444831848\n",
      "Epoch 2670, Loss: 0.2913151681423187\n",
      "Epoch 2680, Loss: 0.28720128536224365\n",
      "Epoch 2690, Loss: 0.27985456585884094\n",
      "Epoch 2700, Loss: 0.27505558729171753\n",
      "Epoch 2710, Loss: 0.27264314889907837\n",
      "Epoch 2720, Loss: 0.27772387862205505\n",
      "Epoch 2730, Loss: 0.26100870966911316\n",
      "Epoch 2740, Loss: 0.2831254005432129\n",
      "Epoch 2750, Loss: 0.25218310952186584\n",
      "Epoch 2760, Loss: 0.24530653655529022\n",
      "Epoch 2770, Loss: 0.25025156140327454\n",
      "Epoch 2780, Loss: 0.23916278779506683\n",
      "Epoch 2790, Loss: 0.2339233160018921\n",
      "Epoch 2800, Loss: 0.23775726556777954\n",
      "Epoch 2810, Loss: 0.23936450481414795\n",
      "Epoch 2820, Loss: 0.24113863706588745\n",
      "Epoch 2830, Loss: 0.22733652591705322\n",
      "Epoch 2840, Loss: 0.2683334946632385\n",
      "Epoch 2850, Loss: 0.24500657618045807\n",
      "Epoch 2860, Loss: 0.2233947515487671\n",
      "Epoch 2870, Loss: 0.20706884562969208\n",
      "Epoch 2880, Loss: 0.22660979628562927\n",
      "Epoch 2890, Loss: 0.2155228704214096\n",
      "Epoch 2900, Loss: 0.22577594220638275\n",
      "Epoch 2910, Loss: 0.20804202556610107\n",
      "Epoch 2920, Loss: 0.20114460587501526\n",
      "Epoch 2930, Loss: 0.20289099216461182\n",
      "Epoch 2940, Loss: 0.1836060732603073\n",
      "Epoch 2950, Loss: 0.22041423618793488\n",
      "Epoch 2960, Loss: 0.17550775408744812\n",
      "Epoch 2970, Loss: 0.17608213424682617\n",
      "Epoch 2980, Loss: 0.16728684306144714\n",
      "Epoch 2990, Loss: 0.17972418665885925\n"
     ]
    }
   ],
   "source": [
    "#Training the models\n",
    "\n",
    "losses = []\n",
    "for epoch in range(3000):\n",
    "\n",
    "    # Forward pass\n",
    "    output = model(features)\n",
    "\n",
    "    # Compute loss\n",
    "    loss = criterion(output, target)\n",
    "    \n",
    "    #r\n",
    "\n",
    "\n",
    "    # Backward pass and update\n",
    "    optimizer.zero_grad()\n",
    "    loss.backward()\n",
    "\n",
    "\n",
    "    optimizer.step()\n",
    "\n",
    " # Print loss\n",
    "    if epoch % 10 == 0:\n",
    "       losses.append(float(loss.item()))\n",
    "       \n",
    "       print(f'Epoch {epoch}, Loss: {loss.item()}')"
   ]
  },
  {
   "cell_type": "code",
   "execution_count": 20,
   "id": "b8dd73bf-0b8e-4946-84e6-1059f21afb23",
   "metadata": {},
   "outputs": [
    {
     "data": {
      "text/plain": [
       "[<matplotlib.lines.Line2D at 0x1f2d5f94bb0>]"
      ]
     },
     "execution_count": 20,
     "metadata": {},
     "output_type": "execute_result"
    },
    {
     "data": {
      "image/png": "[encoded data removed]",
      "text/plain": [
       "<Figure size 640x480 with 1 Axes>"
      ]
     },
     "metadata": {},
     "output_type": "display_data"
    }
   ],
   "source": [
    "#plotting the losses\n",
    "plt.plot(losses)\n"
   ]
  },
  {
   "cell_type": "markdown",
   "id": "bfc42d04-8d7c-4ef6-ba41-4d0c39f9b86d",
   "metadata": {},
   "source": [
    "### Evaluating the model over the test data"
   ]
  },
  {
   "cell_type": "code",
   "execution_count": 21,
   "id": "5849fdcc-e675-4465-8646-f9bddabce949",
   "metadata": {},
   "outputs": [
    {
     "name": "stdout",
     "output_type": "stream",
     "text": [
      "MSE over the model prediction: 0.26044596124343694\n"
     ]
    }
   ],
   "source": [
    "y_pred = model(X_test)\n",
    "print(f\"MSE over the model prediction: {mean_absolute_error(y_test.tolist(), y_pred.tolist())}\")"
   ]
  },
  {
   "cell_type": "code",
   "execution_count": 22,
   "id": "5e1e8445",
   "metadata": {},
   "outputs": [
    {
     "data": {
      "text/plain": [
       "tensor([-0.1740,  0.0531,  0.1688,  ..., -0.3969, -0.1525,  0.2903])"
      ]
     },
     "execution_count": 22,
     "metadata": {},
     "output_type": "execute_result"
    }
   ],
   "source": [
    "resort = np.argsort(ind)\n",
    "test= features[resort,:]\n",
    "prediction = model(torch.Tensor(test))[:,0]\n",
    "test = prediction.detach().numpy().flatten()\n",
    "test=torch.tensor(test)\n",
    "test"
   ]
  },
  {
   "cell_type": "code",
   "execution_count": 23,
   "id": "e375d8bf",
   "metadata": {},
   "outputs": [
    {
     "data": {
      "text/plain": [
       "[<matplotlib.lines.Line2D at 0x1f2d5fe5ac0>]"
      ]
     },
     "execution_count": 23,
     "metadata": {},
     "output_type": "execute_result"
    },
    {
     "data": {
      "image/png": "[encoded data removed]",
      "text/plain": [
       "<Figure size 640x480 with 1 Axes>"
      ]
     },
     "metadata": {},
     "output_type": "display_data"
    }
   ],
   "source": [
    "plt.plot(test)"
   ]
  },
  {
   "cell_type": "code",
   "execution_count": 24,
   "id": "3bd80508",
   "metadata": {},
   "outputs": [
    {
     "data": {
      "text/plain": [
       "[<matplotlib.lines.Line2D at 0x1f2d604ff70>]"
      ]
     },
     "execution_count": 24,
     "metadata": {},
     "output_type": "execute_result"
    },
    {
     "data": {
      "image/png": "[encoded data removed]",
      "text/plain": [
       "<Figure size 640x480 with 1 Axes>"
      ]
     },
     "metadata": {},
     "output_type": "display_data"
    }
   ],
   "source": [
    "\n",
    "plt.plot(target[resort,0])"
   ]
  },
  {
   "cell_type": "code",
   "execution_count": 25,
   "id": "a359c53d",
   "metadata": {},
   "outputs": [
    {
     "data": {
      "text/plain": [
       "[<matplotlib.lines.Line2D at 0x1f2d60b1f70>]"
      ]
     },
     "execution_count": 25,
     "metadata": {},
     "output_type": "execute_result"
    },
    {
     "data": {
      "image/png": "[encoded data removed]",
      "text/plain": [
       "<Figure size 640x480 with 1 Axes>"
      ]
     },
     "metadata": {},
     "output_type": "display_data"
    }
   ],
   "source": [
    "# plot prediction and difference between prediction and actual target\n",
    "plt.plot(test)\n",
    "plt.plot(test-target[resort,0])\n",
    "#"
   ]
  },
  {
   "cell_type": "code",
   "execution_count": null,
   "id": "ed4025b3",
   "metadata": {},
   "outputs": [],
   "source": []
  }
 ],
 "metadata": {
  "kernelspec": {
   "display_name": "base",
   "language": "python",
   "name": "python3"
  },
  "language_info": {
   "codemirror_mode": {
    "name": "ipython",
    "version": 3
   },
   "file_extension": ".py",
   "mimetype": "text/x-python",
   "name": "python",
   "nbconvert_exporter": "python",
   "pygments_lexer": "ipython3",
   "version": "3.9.13"
  },
  "vscode": {
   "interpreter": {
    "hash": "411446a7edab58371acca640d5cf3643786eee96ba471d744732126167da67ea"
   }
  }
 },
 "nbformat": 4,
 "nbformat_minor": 5
}
