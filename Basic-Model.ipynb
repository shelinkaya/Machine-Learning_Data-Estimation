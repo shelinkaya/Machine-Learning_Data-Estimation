{
 "cells": [
  {
   "cell_type": "code",
   "execution_count": 1,
   "id": "8a48af8e-1dd8-482c-b87c-e5ebf04acc5d",
   "metadata": {},
   "outputs": [],
   "source": [
    "#Importing required packages\n",
    "\n",
    "import torch\n",
    "import pandas as pd\n",
    "import numpy as np\n",
    "import torch.nn as nn\n",
    "import matplotlib.pyplot as plt\n",
    "from sklearn.model_selection import train_test_split\n",
    "from sklearn.metrics import mean_absolute_error\n"
   ]
  },
  {
   "cell_type": "code",
   "execution_count": 2,
   "id": "70db7dde-768e-4747-b8e7-967df83362c7",
   "metadata": {},
   "outputs": [
    {
     "data": {
      "text/html": [
       "<div>\n",
       "<style scoped>\n",
       "    .dataframe tbody tr th:only-of-type {\n",
       "        vertical-align: middle;\n",
       "    }\n",
       "\n",
       "    .dataframe tbody tr th {\n",
       "        vertical-align: top;\n",
       "    }\n",
       "\n",
       "    .dataframe thead th {\n",
       "        text-align: right;\n",
       "    }\n",
       "</style>\n",
       "<table border=\"1\" class=\"dataframe\">\n",
       "  <thead>\n",
       "    <tr style=\"text-align: right;\">\n",
       "      <th></th>\n",
       "      <th>Stitch_number_modified</th>\n",
       "      <th>Stitch_path_length</th>\n",
       "      <th>x</th>\n",
       "      <th>y</th>\n",
       "      <th>measured_x1</th>\n",
       "      <th>measured_y1</th>\n",
       "      <th>measured_x2</th>\n",
       "      <th>measured_y2</th>\n",
       "      <th>measured_xm</th>\n",
       "      <th>measured_ym</th>\n",
       "      <th>Deviation_tot</th>\n",
       "      <th>Width</th>\n",
       "      <th>Radius_loc</th>\n",
       "      <th>Radius_locav</th>\n",
       "      <th>Radius_locav2</th>\n",
       "      <th>Radius_locav3</th>\n",
       "    </tr>\n",
       "  </thead>\n",
       "  <tbody>\n",
       "    <tr>\n",
       "      <th>0</th>\n",
       "      <td>1</td>\n",
       "      <td>0.0000</td>\n",
       "      <td>511.3638</td>\n",
       "      <td>-19.0811</td>\n",
       "      <td>510.8245</td>\n",
       "      <td>-17.9730</td>\n",
       "      <td>511.8639</td>\n",
       "      <td>-20.1088</td>\n",
       "      <td>511.3442</td>\n",
       "      <td>-19.0409</td>\n",
       "      <td>0.0447</td>\n",
       "      <td>2.3753</td>\n",
       "      <td>inf</td>\n",
       "      <td>299.8505</td>\n",
       "      <td>17.5033</td>\n",
       "      <td>11.7315</td>\n",
       "    </tr>\n",
       "    <tr>\n",
       "      <th>1</th>\n",
       "      <td>1</td>\n",
       "      <td>0.9591</td>\n",
       "      <td>512.3229</td>\n",
       "      <td>-19.0894</td>\n",
       "      <td>511.7820</td>\n",
       "      <td>-18.0891</td>\n",
       "      <td>512.8518</td>\n",
       "      <td>-20.0677</td>\n",
       "      <td>512.3169</td>\n",
       "      <td>-19.0784</td>\n",
       "      <td>0.0125</td>\n",
       "      <td>2.2493</td>\n",
       "      <td>inf</td>\n",
       "      <td>150.5194</td>\n",
       "      <td>15.6020</td>\n",
       "      <td>11.2740</td>\n",
       "    </tr>\n",
       "    <tr>\n",
       "      <th>2</th>\n",
       "      <td>1</td>\n",
       "      <td>1.9183</td>\n",
       "      <td>513.2820</td>\n",
       "      <td>-19.0977</td>\n",
       "      <td>512.7094</td>\n",
       "      <td>-18.1517</td>\n",
       "      <td>513.8795</td>\n",
       "      <td>-20.0851</td>\n",
       "      <td>513.2945</td>\n",
       "      <td>-19.1184</td>\n",
       "      <td>0.0242</td>\n",
       "      <td>2.2598</td>\n",
       "      <td>inf</td>\n",
       "      <td>81.0540</td>\n",
       "      <td>13.9990</td>\n",
       "      <td>10.8555</td>\n",
       "    </tr>\n",
       "    <tr>\n",
       "      <th>3</th>\n",
       "      <td>1</td>\n",
       "      <td>2.9018</td>\n",
       "      <td>514.2654</td>\n",
       "      <td>-19.1060</td>\n",
       "      <td>513.6625</td>\n",
       "      <td>-18.2269</td>\n",
       "      <td>514.9383</td>\n",
       "      <td>-20.0871</td>\n",
       "      <td>514.3004</td>\n",
       "      <td>-19.1570</td>\n",
       "      <td>0.0618</td>\n",
       "      <td>2.2557</td>\n",
       "      <td>-146.6106</td>\n",
       "      <td>45.6545</td>\n",
       "      <td>12.6165</td>\n",
       "      <td>10.4644</td>\n",
       "    </tr>\n",
       "    <tr>\n",
       "      <th>4</th>\n",
       "      <td>1</td>\n",
       "      <td>3.9667</td>\n",
       "      <td>515.3302</td>\n",
       "      <td>-19.1225</td>\n",
       "      <td>514.5880</td>\n",
       "      <td>-18.1910</td>\n",
       "      <td>516.1352</td>\n",
       "      <td>-20.1328</td>\n",
       "      <td>515.3616</td>\n",
       "      <td>-19.1619</td>\n",
       "      <td>0.0504</td>\n",
       "      <td>2.4828</td>\n",
       "      <td>-470.9179</td>\n",
       "      <td>26.2507</td>\n",
       "      <td>11.3705</td>\n",
       "      <td>10.0818</td>\n",
       "    </tr>\n",
       "  </tbody>\n",
       "</table>\n",
       "</div>"
      ],
      "text/plain": [
       "   Stitch_number_modified  Stitch_path_length         x        y  measured_x1  \\\n",
       "0                       1              0.0000  511.3638 -19.0811     510.8245   \n",
       "1                       1              0.9591  512.3229 -19.0894     511.7820   \n",
       "2                       1              1.9183  513.2820 -19.0977     512.7094   \n",
       "3                       1              2.9018  514.2654 -19.1060     513.6625   \n",
       "4                       1              3.9667  515.3302 -19.1225     514.5880   \n",
       "\n",
       "   measured_y1  measured_x2  measured_y2  measured_xm  measured_ym  \\\n",
       "0     -17.9730     511.8639     -20.1088     511.3442     -19.0409   \n",
       "1     -18.0891     512.8518     -20.0677     512.3169     -19.0784   \n",
       "2     -18.1517     513.8795     -20.0851     513.2945     -19.1184   \n",
       "3     -18.2269     514.9383     -20.0871     514.3004     -19.1570   \n",
       "4     -18.1910     516.1352     -20.1328     515.3616     -19.1619   \n",
       "\n",
       "   Deviation_tot   Width  Radius_loc  Radius_locav  Radius_locav2  \\\n",
       "0         0.0447  2.3753         inf      299.8505        17.5033   \n",
       "1         0.0125  2.2493         inf      150.5194        15.6020   \n",
       "2         0.0242  2.2598         inf       81.0540        13.9990   \n",
       "3         0.0618  2.2557   -146.6106       45.6545        12.6165   \n",
       "4         0.0504  2.4828   -470.9179       26.2507        11.3705   \n",
       "\n",
       "   Radius_locav3  \n",
       "0        11.7315  \n",
       "1        11.2740  \n",
       "2        10.8555  \n",
       "3        10.4644  \n",
       "4        10.0818  "
      ]
     },
     "execution_count": 2,
     "metadata": {},
     "output_type": "execute_result"
    }
   ],
   "source": [
    "# cleaned up '#' in txt file before reading -> for correct header\n",
    "df = pd.read_csv(\"testpattern06_d4.0_R3.0_roving.txt\",delim_whitespace=True)\n",
    "df=df.drop(['#'], axis=1)\n",
    "df.head()"
   ]
  },
  {
   "cell_type": "code",
   "execution_count": 3,
   "id": "9d5d863c-d1a7-4d9f-a3e1-45529adbf165",
   "metadata": {},
   "outputs": [
    {
     "name": "stdout",
     "output_type": "stream",
     "text": [
      "<class 'pandas.core.frame.DataFrame'>\n",
      "RangeIndex: 2155 entries, 0 to 2154\n",
      "Data columns (total 16 columns):\n",
      " #   Column                  Non-Null Count  Dtype  \n",
      "---  ------                  --------------  -----  \n",
      " 0   Stitch_number_modified  2155 non-null   int64  \n",
      " 1   Stitch_path_length      2155 non-null   float64\n",
      " 2   x                       2155 non-null   float64\n",
      " 3   y                       2155 non-null   float64\n",
      " 4   measured_x1             2155 non-null   float64\n",
      " 5   measured_y1             2155 non-null   float64\n",
      " 6   measured_x2             2155 non-null   float64\n",
      " 7   measured_y2             2155 non-null   float64\n",
      " 8   measured_xm             2155 non-null   float64\n",
      " 9   measured_ym             2155 non-null   float64\n",
      " 10  Deviation_tot           2155 non-null   float64\n",
      " 11  Width                   2155 non-null   float64\n",
      " 12  Radius_loc              2155 non-null   float64\n",
      " 13  Radius_locav            2155 non-null   float64\n",
      " 14  Radius_locav2           2155 non-null   float64\n",
      " 15  Radius_locav3           2155 non-null   float64\n",
      "dtypes: float64(15), int64(1)\n",
      "memory usage: 269.5 KB\n"
     ]
    }
   ],
   "source": [
    "#checking information of dataset\n",
    "df.info()"
   ]
  },
  {
   "cell_type": "code",
   "execution_count": 17,
   "id": "ab960136-c8ac-4181-8827-6c045d56b1b7",
   "metadata": {
    "scrolled": true
   },
   "outputs": [],
   "source": [
    "#Implementing of slicing window method to the dataset\n",
    "n = 5\n",
    "x_values = np.lib.stride_tricks.sliding_window_view(df['x'].values, n)\n",
    "y_values = np.lib.stride_tricks.sliding_window_view(df['y'].values, n)\n",
    "x_values=x_values-x_values[:,n//2][:,np.newaxis]\n",
    "y_values=y_values-y_values[:,n//2][:,np.newaxis]\n",
    "target = np.lib.stride_tricks.sliding_window_view(df['Deviation_tot'].values, n)[:,n//2].copy()\n",
    "#features = pd.concat([pd.DataFrame(x_values.copy()), pd.DataFrame(y_values.copy())], axis = 1)\n",
    "features = np.concatenate((x_values,y_values), axis=1)\n",
    "# drop 0 columns:\n",
    "features = features[:,[i for i in range(2*n) if i!=n//2 and i!=(n+n//2)]].copy()\n"
   ]
  },
  {
   "cell_type": "code",
   "execution_count": 18,
   "id": "a4c044fb",
   "metadata": {},
   "outputs": [
    {
     "name": "stdout",
     "output_type": "stream",
     "text": [
      "Matrix sizes of input and output data (2151, 8) (2151, 1)\n"
     ]
    }
   ],
   "source": [
    "ind = np.random.permutation(np.arange(len(features))) # random permutation of dataset\n",
    "features = features[ind].copy()\n",
    "target = target[ind].copy()[:,np.newaxis]\n",
    "print(\"Matrix sizes of input and output data\", features.shape, target.shape)"
   ]
  },
  {
   "cell_type": "code",
   "execution_count": 19,
   "id": "6c581ac2",
   "metadata": {},
   "outputs": [],
   "source": [
    "#splitting the dataset into train and test\n",
    "\n",
    "features = torch.Tensor(features)\n",
    "target = torch.Tensor(target)\n",
    "X_train, X_test, y_train, y_test = train_test_split(features, target, test_size=0.33)\n"
   ]
  },
  {
   "cell_type": "code",
   "execution_count": 20,
   "id": "de078eb4-6404-4da3-af62-d983c6017656",
   "metadata": {},
   "outputs": [],
   "source": [
    "#CNN structure\n",
    "class MyModel(nn.Module):\n",
    "    def __init__(self, n_features):\n",
    "        super(MyModel, self).__init__()\n",
    "        self.layer1 = nn.Linear(n_features, 16)\n",
    "        self.layer2 = nn.Linear(16, 32)\n",
    "        self.layer3 = nn.Linear(32, 16)\n",
    "        self.layer4 = nn.Linear(16,8)\n",
    "        self.layer5 = nn.Linear(8,1)\n",
    "    def forward(self, x):\n",
    "        x = self.layer1(x)\n",
    "        x = torch.relu(x)\n",
    "        x = self.layer2(x)\n",
    "        x = torch.relu(x)\n",
    "        x = self.layer3(x)\n",
    "        x = torch.relu(x)\n",
    "        x = self.layer4(x)\n",
    "        x = torch.relu(x)\n",
    "        x = self.layer5(x)\n",
    "        return x"
   ]
  },
  {
   "cell_type": "code",
   "execution_count": 21,
   "id": "357b2d92-7f54-478b-a025-68d57fea399f",
   "metadata": {},
   "outputs": [],
   "source": [
    "#compiling the model\n",
    "model = MyModel(n_features=features.shape[1])\n",
    "criterion = nn.MSELoss()\n",
    "optimizer = torch.optim.Adam(model.parameters())\n"
   ]
  },
  {
   "cell_type": "code",
   "execution_count": 22,
   "id": "2cbb710e-e84f-45ed-aeec-81d2c51af272",
   "metadata": {
    "scrolled": true,
    "tags": []
   },
   "outputs": [
    {
     "name": "stdout",
     "output_type": "stream",
     "text": [
      "Epoch 0, Loss: 2.968505620956421\n",
      "Epoch 10, Loss: 2.743372917175293\n",
      "Epoch 20, Loss: 2.571721076965332\n",
      "Epoch 30, Loss: 2.3679301738739014\n",
      "Epoch 40, Loss: 2.2352664470672607\n",
      "Epoch 50, Loss: 2.1953213214874268\n",
      "Epoch 60, Loss: 2.1552679538726807\n",
      "Epoch 70, Loss: 2.122814178466797\n",
      "Epoch 80, Loss: 2.078481674194336\n",
      "Epoch 90, Loss: 2.0204224586486816\n",
      "Epoch 100, Loss: 1.942173719406128\n",
      "Epoch 110, Loss: 1.8244925737380981\n",
      "Epoch 120, Loss: 1.682967185974121\n",
      "Epoch 130, Loss: 1.5368821620941162\n",
      "Epoch 140, Loss: 1.4287317991256714\n",
      "Epoch 150, Loss: 1.340461254119873\n",
      "Epoch 160, Loss: 1.257302165031433\n",
      "Epoch 170, Loss: 1.17820143699646\n",
      "Epoch 180, Loss: 1.0929847955703735\n",
      "Epoch 190, Loss: 0.9938382506370544\n",
      "Epoch 200, Loss: 0.8808872103691101\n",
      "Epoch 210, Loss: 0.7577348947525024\n",
      "Epoch 220, Loss: 0.6308107376098633\n",
      "Epoch 230, Loss: 0.5126458406448364\n",
      "Epoch 240, Loss: 0.4144926369190216\n",
      "Epoch 250, Loss: 0.33513644337654114\n",
      "Epoch 260, Loss: 0.27426421642303467\n",
      "Epoch 270, Loss: 0.22947435081005096\n",
      "Epoch 280, Loss: 0.19724079966545105\n",
      "Epoch 290, Loss: 0.1740722805261612\n",
      "Epoch 300, Loss: 0.157941073179245\n",
      "Epoch 310, Loss: 0.14663848280906677\n",
      "Epoch 320, Loss: 0.13774922490119934\n",
      "Epoch 330, Loss: 0.13133575022220612\n",
      "Epoch 340, Loss: 0.12646420300006866\n",
      "Epoch 350, Loss: 0.12254945933818817\n",
      "Epoch 360, Loss: 0.11962711811065674\n",
      "Epoch 370, Loss: 0.1165592223405838\n",
      "Epoch 380, Loss: 0.11370940506458282\n",
      "Epoch 390, Loss: 0.1111958846449852\n",
      "Epoch 400, Loss: 0.10883847624063492\n",
      "Epoch 410, Loss: 0.10687189549207687\n",
      "Epoch 420, Loss: 0.1051163449883461\n",
      "Epoch 430, Loss: 0.10353321582078934\n",
      "Epoch 440, Loss: 0.10203448683023453\n",
      "Epoch 450, Loss: 0.10057695209980011\n",
      "Epoch 460, Loss: 0.09934121370315552\n",
      "Epoch 470, Loss: 0.09825484454631805\n",
      "Epoch 480, Loss: 0.09722700715065002\n",
      "Epoch 490, Loss: 0.09628314524888992\n",
      "Epoch 500, Loss: 0.09541831165552139\n",
      "Epoch 510, Loss: 0.09459581226110458\n",
      "Epoch 520, Loss: 0.09382300078868866\n",
      "Epoch 530, Loss: 0.09315913170576096\n",
      "Epoch 540, Loss: 0.09267338365316391\n",
      "Epoch 550, Loss: 0.09207835048437119\n",
      "Epoch 560, Loss: 0.09152407199144363\n",
      "Epoch 570, Loss: 0.09100330621004105\n",
      "Epoch 580, Loss: 0.09048639237880707\n",
      "Epoch 590, Loss: 0.08969064801931381\n",
      "Epoch 600, Loss: 0.08921653032302856\n",
      "Epoch 610, Loss: 0.08876998722553253\n",
      "Epoch 620, Loss: 0.08837956190109253\n",
      "Epoch 630, Loss: 0.08796466141939163\n",
      "Epoch 640, Loss: 0.0875152051448822\n",
      "Epoch 650, Loss: 0.0871635302901268\n",
      "Epoch 660, Loss: 0.08678720891475677\n",
      "Epoch 670, Loss: 0.0864473432302475\n",
      "Epoch 680, Loss: 0.08613669127225876\n",
      "Epoch 690, Loss: 0.08582069724798203\n",
      "Epoch 700, Loss: 0.08551135659217834\n",
      "Epoch 710, Loss: 0.08518039435148239\n",
      "Epoch 720, Loss: 0.08491437882184982\n",
      "Epoch 730, Loss: 0.08460743725299835\n",
      "Epoch 740, Loss: 0.08435694128274918\n",
      "Epoch 750, Loss: 0.08394917845726013\n",
      "Epoch 760, Loss: 0.08380468189716339\n",
      "Epoch 770, Loss: 0.08342693001031876\n",
      "Epoch 780, Loss: 0.08314690738916397\n",
      "Epoch 790, Loss: 0.08289648592472076\n",
      "Epoch 800, Loss: 0.08261323720216751\n",
      "Epoch 810, Loss: 0.08237212896347046\n",
      "Epoch 820, Loss: 0.08209805190563202\n",
      "Epoch 830, Loss: 0.08186285942792892\n",
      "Epoch 840, Loss: 0.08160357177257538\n",
      "Epoch 850, Loss: 0.08139188587665558\n",
      "Epoch 860, Loss: 0.08112490922212601\n",
      "Epoch 870, Loss: 0.08087829500436783\n",
      "Epoch 880, Loss: 0.08064799755811691\n",
      "Epoch 890, Loss: 0.08035347610712051\n",
      "Epoch 900, Loss: 0.08012231439352036\n",
      "Epoch 910, Loss: 0.07991568744182587\n",
      "Epoch 920, Loss: 0.07962911576032639\n",
      "Epoch 930, Loss: 0.07934939861297607\n",
      "Epoch 940, Loss: 0.07915515452623367\n",
      "Epoch 950, Loss: 0.07887572050094604\n",
      "Epoch 960, Loss: 0.07861647009849548\n",
      "Epoch 970, Loss: 0.07844565808773041\n",
      "Epoch 980, Loss: 0.07810336351394653\n",
      "Epoch 990, Loss: 0.07788373529911041\n",
      "Epoch 1000, Loss: 0.07766157388687134\n",
      "Epoch 1010, Loss: 0.07740972936153412\n",
      "Epoch 1020, Loss: 0.0771678239107132\n",
      "Epoch 1030, Loss: 0.07686778903007507\n",
      "Epoch 1040, Loss: 0.07661086320877075\n",
      "Epoch 1050, Loss: 0.07637622207403183\n",
      "Epoch 1060, Loss: 0.07613061368465424\n",
      "Epoch 1070, Loss: 0.07590336352586746\n",
      "Epoch 1080, Loss: 0.07560105621814728\n",
      "Epoch 1090, Loss: 0.07536710798740387\n",
      "Epoch 1100, Loss: 0.07510393857955933\n",
      "Epoch 1110, Loss: 0.07484938949346542\n",
      "Epoch 1120, Loss: 0.07462289929389954\n",
      "Epoch 1130, Loss: 0.07437295466661453\n",
      "Epoch 1140, Loss: 0.07411319762468338\n",
      "Epoch 1150, Loss: 0.07387181371450424\n",
      "Epoch 1160, Loss: 0.07366455346345901\n",
      "Epoch 1170, Loss: 0.07340311259031296\n",
      "Epoch 1180, Loss: 0.07317782193422318\n",
      "Epoch 1190, Loss: 0.07296109199523926\n",
      "Epoch 1200, Loss: 0.07276275008916855\n",
      "Epoch 1210, Loss: 0.0725037232041359\n",
      "Epoch 1220, Loss: 0.07223695516586304\n",
      "Epoch 1230, Loss: 0.07217583805322647\n",
      "Epoch 1240, Loss: 0.07190260291099548\n",
      "Epoch 1250, Loss: 0.0715499147772789\n",
      "Epoch 1260, Loss: 0.07130884379148483\n",
      "Epoch 1270, Loss: 0.07109343260526657\n",
      "Epoch 1280, Loss: 0.07086934894323349\n",
      "Epoch 1290, Loss: 0.07064903527498245\n",
      "Epoch 1300, Loss: 0.07048109173774719\n",
      "Epoch 1310, Loss: 0.07018879801034927\n",
      "Epoch 1320, Loss: 0.0698835551738739\n",
      "Epoch 1330, Loss: 0.06966953724622726\n",
      "Epoch 1340, Loss: 0.06945023685693741\n",
      "Epoch 1350, Loss: 0.0692383348941803\n",
      "Epoch 1360, Loss: 0.06895794719457626\n",
      "Epoch 1370, Loss: 0.06874626129865646\n",
      "Epoch 1380, Loss: 0.06846462935209274\n",
      "Epoch 1390, Loss: 0.06820733100175858\n",
      "Epoch 1400, Loss: 0.06799408048391342\n",
      "Epoch 1410, Loss: 0.06770911067724228\n",
      "Epoch 1420, Loss: 0.0679159089922905\n",
      "Epoch 1430, Loss: 0.06733053177595139\n",
      "Epoch 1440, Loss: 0.06708476692438126\n",
      "Epoch 1450, Loss: 0.06678847968578339\n",
      "Epoch 1460, Loss: 0.06653820723295212\n",
      "Epoch 1470, Loss: 0.06623553484678268\n",
      "Epoch 1480, Loss: 0.0659530907869339\n",
      "Epoch 1490, Loss: 0.06571433693170547\n",
      "Epoch 1500, Loss: 0.06547281891107559\n",
      "Epoch 1510, Loss: 0.06529754400253296\n",
      "Epoch 1520, Loss: 0.06503081321716309\n",
      "Epoch 1530, Loss: 0.0647231861948967\n",
      "Epoch 1540, Loss: 0.06445296853780746\n",
      "Epoch 1550, Loss: 0.06411796808242798\n",
      "Epoch 1560, Loss: 0.0638757273554802\n",
      "Epoch 1570, Loss: 0.06360641866922379\n",
      "Epoch 1580, Loss: 0.06335137039422989\n",
      "Epoch 1590, Loss: 0.06336978077888489\n",
      "Epoch 1600, Loss: 0.0628848671913147\n",
      "Epoch 1610, Loss: 0.06254906952381134\n",
      "Epoch 1620, Loss: 0.06228610873222351\n",
      "Epoch 1630, Loss: 0.0619773268699646\n",
      "Epoch 1640, Loss: 0.06188255548477173\n",
      "Epoch 1650, Loss: 0.06148907542228699\n",
      "Epoch 1660, Loss: 0.06114177033305168\n",
      "Epoch 1670, Loss: 0.06081670895218849\n",
      "Epoch 1680, Loss: 0.06060665473341942\n",
      "Epoch 1690, Loss: 0.06036212295293808\n",
      "Epoch 1700, Loss: 0.06012727692723274\n",
      "Epoch 1710, Loss: 0.059729959815740585\n",
      "Epoch 1720, Loss: 0.059451937675476074\n",
      "Epoch 1730, Loss: 0.05917338281869888\n",
      "Epoch 1740, Loss: 0.05912429466843605\n",
      "Epoch 1750, Loss: 0.05873384699225426\n",
      "Epoch 1760, Loss: 0.058358270674943924\n",
      "Epoch 1770, Loss: 0.05809209123253822\n",
      "Epoch 1780, Loss: 0.05790058895945549\n",
      "Epoch 1790, Loss: 0.057429444044828415\n",
      "Epoch 1800, Loss: 0.05706806108355522\n",
      "Epoch 1810, Loss: 0.056863874197006226\n",
      "Epoch 1820, Loss: 0.05680719017982483\n",
      "Epoch 1830, Loss: 0.05626210570335388\n",
      "Epoch 1840, Loss: 0.05597974359989166\n",
      "Epoch 1850, Loss: 0.056108858436346054\n",
      "Epoch 1860, Loss: 0.05541400983929634\n",
      "Epoch 1870, Loss: 0.05508548393845558\n",
      "Epoch 1880, Loss: 0.05491572991013527\n",
      "Epoch 1890, Loss: 0.05456256866455078\n",
      "Epoch 1900, Loss: 0.054310619831085205\n",
      "Epoch 1910, Loss: 0.05412296578288078\n",
      "Epoch 1920, Loss: 0.054009657353162766\n",
      "Epoch 1930, Loss: 0.05363010987639427\n",
      "Epoch 1940, Loss: 0.05321260169148445\n",
      "Epoch 1950, Loss: 0.05288083106279373\n",
      "Epoch 1960, Loss: 0.05311024561524391\n",
      "Epoch 1970, Loss: 0.052462123334407806\n",
      "Epoch 1980, Loss: 0.052112944424152374\n",
      "Epoch 1990, Loss: 0.05213446915149689\n",
      "Epoch 2000, Loss: 0.05158073082566261\n",
      "Epoch 2010, Loss: 0.05147132650017738\n",
      "Epoch 2020, Loss: 0.0510530099272728\n",
      "Epoch 2030, Loss: 0.05086115375161171\n",
      "Epoch 2040, Loss: 0.05051432549953461\n",
      "Epoch 2050, Loss: 0.05021568760275841\n",
      "Epoch 2060, Loss: 0.050063606351614\n",
      "Epoch 2070, Loss: 0.05024654045701027\n",
      "Epoch 2080, Loss: 0.049983665347099304\n",
      "Epoch 2090, Loss: 0.04932636395096779\n",
      "Epoch 2100, Loss: 0.04900568351149559\n",
      "Epoch 2110, Loss: 0.04886917397379875\n",
      "Epoch 2120, Loss: 0.04901964217424393\n",
      "Epoch 2130, Loss: 0.04863089323043823\n",
      "Epoch 2140, Loss: 0.04804263263940811\n",
      "Epoch 2150, Loss: 0.04791085422039032\n",
      "Epoch 2160, Loss: 0.04793126508593559\n",
      "Epoch 2170, Loss: 0.04762401804327965\n",
      "Epoch 2180, Loss: 0.04716143757104874\n",
      "Epoch 2190, Loss: 0.0470232330262661\n",
      "Epoch 2200, Loss: 0.04670834168791771\n",
      "Epoch 2210, Loss: 0.04662064090371132\n",
      "Epoch 2220, Loss: 0.04639934375882149\n",
      "Epoch 2230, Loss: 0.046180326491594315\n",
      "Epoch 2240, Loss: 0.04604501277208328\n",
      "Epoch 2250, Loss: 0.04578503966331482\n",
      "Epoch 2260, Loss: 0.045668333768844604\n",
      "Epoch 2270, Loss: 0.04586159065365791\n",
      "Epoch 2280, Loss: 0.04508731886744499\n",
      "Epoch 2290, Loss: 0.044711582362651825\n",
      "Epoch 2300, Loss: 0.04480266198515892\n",
      "Epoch 2310, Loss: 0.045454856008291245\n",
      "Epoch 2320, Loss: 0.04437626153230667\n",
      "Epoch 2330, Loss: 0.04387615993618965\n",
      "Epoch 2340, Loss: 0.04401986673474312\n",
      "Epoch 2350, Loss: 0.04483356699347496\n",
      "Epoch 2360, Loss: 0.046304356306791306\n",
      "Epoch 2370, Loss: 0.04354787617921829\n",
      "Epoch 2380, Loss: 0.04331877827644348\n",
      "Epoch 2390, Loss: 0.04272352531552315\n",
      "Epoch 2400, Loss: 0.04257269203662872\n",
      "Epoch 2410, Loss: 0.0421789288520813\n",
      "Epoch 2420, Loss: 0.0423193983733654\n",
      "Epoch 2430, Loss: 0.04206160083413124\n",
      "Epoch 2440, Loss: 0.0417504757642746\n",
      "Epoch 2450, Loss: 0.04145518317818642\n",
      "Epoch 2460, Loss: 0.041600391268730164\n",
      "Epoch 2470, Loss: 0.041111499071121216\n",
      "Epoch 2480, Loss: 0.04116753488779068\n",
      "Epoch 2490, Loss: 0.040821779519319534\n",
      "Epoch 2500, Loss: 0.04091176390647888\n",
      "Epoch 2510, Loss: 0.04060371592640877\n",
      "Epoch 2520, Loss: 0.04040074720978737\n",
      "Epoch 2530, Loss: 0.0404716394841671\n",
      "Epoch 2540, Loss: 0.0405937060713768\n",
      "Epoch 2550, Loss: 0.04052472487092018\n",
      "Epoch 2560, Loss: 0.040036797523498535\n",
      "Epoch 2570, Loss: 0.040167730301618576\n",
      "Epoch 2580, Loss: 0.0403614304959774\n",
      "Epoch 2590, Loss: 0.039621490985155106\n",
      "Epoch 2600, Loss: 0.039479758590459824\n",
      "Epoch 2610, Loss: 0.039268553256988525\n",
      "Epoch 2620, Loss: 0.039620816707611084\n",
      "Epoch 2630, Loss: 0.039181265980005264\n",
      "Epoch 2640, Loss: 0.038982145488262177\n",
      "Epoch 2650, Loss: 0.03889819234609604\n",
      "Epoch 2660, Loss: 0.03901950269937515\n",
      "Epoch 2670, Loss: 0.03904607519507408\n",
      "Epoch 2680, Loss: 0.03898778557777405\n",
      "Epoch 2690, Loss: 0.03939326852560043\n",
      "Epoch 2700, Loss: 0.03866109624505043\n",
      "Epoch 2710, Loss: 0.03858762979507446\n",
      "Epoch 2720, Loss: 0.03879697993397713\n",
      "Epoch 2730, Loss: 0.038092244416475296\n",
      "Epoch 2740, Loss: 0.038196854293346405\n",
      "Epoch 2750, Loss: 0.03843962773680687\n",
      "Epoch 2760, Loss: 0.03839778155088425\n",
      "Epoch 2770, Loss: 0.0378209613263607\n",
      "Epoch 2780, Loss: 0.0376603826880455\n",
      "Epoch 2790, Loss: 0.03765099495649338\n",
      "Epoch 2800, Loss: 0.03750593215227127\n",
      "Epoch 2810, Loss: 0.037683308124542236\n",
      "Epoch 2820, Loss: 0.037592630833387375\n",
      "Epoch 2830, Loss: 0.037334196269512177\n",
      "Epoch 2840, Loss: 0.03747792914509773\n",
      "Epoch 2850, Loss: 0.03714688494801521\n",
      "Epoch 2860, Loss: 0.037182968109846115\n",
      "Epoch 2870, Loss: 0.037387385964393616\n",
      "Epoch 2880, Loss: 0.03691226989030838\n",
      "Epoch 2890, Loss: 0.036933474242687225\n",
      "Epoch 2900, Loss: 0.03675193339586258\n",
      "Epoch 2910, Loss: 0.036632902920246124\n",
      "Epoch 2920, Loss: 0.0367540679872036\n",
      "Epoch 2930, Loss: 0.03719407692551613\n",
      "Epoch 2940, Loss: 0.03665555641055107\n",
      "Epoch 2950, Loss: 0.03780325874686241\n",
      "Epoch 2960, Loss: 0.03659404069185257\n",
      "Epoch 2970, Loss: 0.03692491725087166\n",
      "Epoch 2980, Loss: 0.03746458515524864\n",
      "Epoch 2990, Loss: 0.03631337732076645\n"
     ]
    }
   ],
   "source": [
    "#Training the models\n",
    "\n",
    "losses = []\n",
    "for epoch in range(3000):\n",
    "\n",
    "    # Forward pass\n",
    "    output = model(features)\n",
    "\n",
    "    # Compute loss\n",
    "    loss = criterion(output, target)\n",
    "    #r\n",
    "\n",
    "\n",
    "    # Backward pass and update\n",
    "    optimizer.zero_grad()\n",
    "    loss.backward()\n",
    "\n",
    "    optimizer.step()\n",
    "\n",
    " # Print loss\n",
    "    if epoch % 10 == 0:\n",
    "       losses.append(float(loss.item()))\n",
    "       print(f'Epoch {epoch}, Loss: {loss.item()}')"
   ]
  },
  {
   "cell_type": "code",
   "execution_count": 23,
   "id": "b8dd73bf-0b8e-4946-84e6-1059f21afb23",
   "metadata": {},
   "outputs": [
    {
     "data": {
      "text/plain": [
       "[<matplotlib.lines.Line2D at 0x1b034217520>]"
      ]
     },
     "execution_count": 23,
     "metadata": {},
     "output_type": "execute_result"
    },
    {
     "data": {
      "image/png": "[encoded data removed]",
      "text/plain": [
       "<Figure size 640x480 with 1 Axes>"
      ]
     },
     "metadata": {},
     "output_type": "display_data"
    }
   ],
   "source": [
    "#plotting the losses\n",
    "plt.plot(losses)\n"
   ]
  },
  {
   "cell_type": "markdown",
   "id": "bfc42d04-8d7c-4ef6-ba41-4d0c39f9b86d",
   "metadata": {},
   "source": [
    "### Evaluating the model over the test data"
   ]
  },
  {
   "cell_type": "code",
   "execution_count": 24,
   "id": "5849fdcc-e675-4465-8646-f9bddabce949",
   "metadata": {},
   "outputs": [
    {
     "name": "stdout",
     "output_type": "stream",
     "text": [
      "MSE over the model prediction: 0.1237003304968952\n"
     ]
    }
   ],
   "source": [
    "y_pred = model(X_test)\n",
    "print(f\"MSE over the model prediction: {mean_absolute_error(y_test.tolist(), y_pred.tolist())}\")"
   ]
  },
  {
   "cell_type": "code",
   "execution_count": 25,
   "id": "5e1e8445",
   "metadata": {},
   "outputs": [
    {
     "data": {
      "text/plain": [
       "tensor([0.2032, 0.2500, 0.1641,  ..., 0.3615, 0.3750, 0.4455])"
      ]
     },
     "execution_count": 25,
     "metadata": {},
     "output_type": "execute_result"
    }
   ],
   "source": [
    "resort = np.argsort(ind)\n",
    "test= features[resort,:]\n",
    "prediction = model(torch.Tensor(test))[:,0]\n",
    "test = prediction.detach().numpy().flatten()\n",
    "test=torch.tensor(test)\n",
    "test"
   ]
  },
  {
   "cell_type": "code",
   "execution_count": 26,
   "id": "3bd80508",
   "metadata": {},
   "outputs": [
    {
     "data": {
      "text/plain": [
       "tensor([0.0242, 0.0618, 0.0504,  ..., 0.1110, 0.0239, 0.0189])"
      ]
     },
     "execution_count": 26,
     "metadata": {},
     "output_type": "execute_result"
    }
   ],
   "source": [
    "target[resort,0]"
   ]
  },
  {
   "cell_type": "code",
   "execution_count": 27,
   "id": "a359c53d",
   "metadata": {},
   "outputs": [
    {
     "data": {
      "text/plain": [
       "[<matplotlib.lines.Line2D at 0x1b034274100>]"
      ]
     },
     "execution_count": 27,
     "metadata": {},
     "output_type": "execute_result"
    },
    {
     "data": {
      "image/png": "[encoded data removed]",
      "text/plain": [
       "<Figure size 640x480 with 1 Axes>"
      ]
     },
     "metadata": {},
     "output_type": "display_data"
    }
   ],
   "source": [
    "# plot prediction and difference between prediction and actual target\n",
    "\n",
    "plt.plot(target[resort,0])"
   ]
  },
  {
   "cell_type": "markdown",
   "id": "661ebebd-4cd7-4967-912f-5252c13e6a4c",
   "metadata": {},
   "source": [
    "### Testing over the test data"
   ]
  },
  {
   "cell_type": "code",
   "execution_count": 28,
   "id": "eb4f5892",
   "metadata": {},
   "outputs": [
    {
     "data": {
      "text/plain": [
       "[<matplotlib.lines.Line2D at 0x1b0342e1670>]"
      ]
     },
     "execution_count": 28,
     "metadata": {},
     "output_type": "execute_result"
    },
    {
     "data": {
      "image/png": "[encoded data removed]",
      "text/plain": [
       "<Figure size 640x480 with 1 Axes>"
      ]
     },
     "metadata": {},
     "output_type": "display_data"
    }
   ],
   "source": [
    "plt.plot(test)\n",
    "plt.plot(test-target[resort,0])"
   ]
  },
  {
   "cell_type": "code",
   "execution_count": null,
   "id": "00fba87c",
   "metadata": {},
   "outputs": [],
   "source": []
  }
 ],
 "metadata": {
  "kernelspec": {
   "display_name": "base",
   "language": "python",
   "name": "python3"
  },
  "language_info": {
   "codemirror_mode": {
    "name": "ipython",
    "version": 3
   },
   "file_extension": ".py",
   "mimetype": "text/x-python",
   "name": "python",
   "nbconvert_exporter": "python",
   "pygments_lexer": "ipython3",
   "version": "3.9.13"
  },
  "vscode": {
   "interpreter": {
    "hash": "411446a7edab58371acca640d5cf3643786eee96ba471d744732126167da67ea"
   }
  }
 },
 "nbformat": 4,
 "nbformat_minor": 5
}
