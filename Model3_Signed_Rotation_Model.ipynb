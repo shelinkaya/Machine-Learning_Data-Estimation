{
 "cells": [
  {
   "cell_type": "code",
   "execution_count": 1,
   "id": "8a48af8e-1dd8-482c-b87c-e5ebf04acc5d",
   "metadata": {},
   "outputs": [
    {
     "name": "stderr",
     "output_type": "stream",
     "text": [
      "c:\\Program Files\\Python310\\lib\\site-packages\\tqdm\\auto.py:22: TqdmWarning: IProgress not found. Please update jupyter and ipywidgets. See https://ipywidgets.readthedocs.io/en/stable/user_install.html\n",
      "  from .autonotebook import tqdm as notebook_tqdm\n"
     ]
    }
   ],
   "source": [
    "#Importing required packages\n",
    "import torch\n",
    "import pandas as pd\n",
    "import numpy as np\n",
    "import torch.nn as nn\n",
    "import matplotlib.pyplot as plt\n",
    "from sklearn.model_selection import train_test_split\n",
    "from sklearn.metrics import mean_absolute_error\n",
    "from math import pi\n"
   ]
  },
  {
   "cell_type": "code",
   "execution_count": 2,
   "id": "70db7dde-768e-4747-b8e7-967df83362c7",
   "metadata": {},
   "outputs": [
    {
     "data": {
      "text/html": [
       "<div>\n",
       "<style scoped>\n",
       "    .dataframe tbody tr th:only-of-type {\n",
       "        vertical-align: middle;\n",
       "    }\n",
       "\n",
       "    .dataframe tbody tr th {\n",
       "        vertical-align: top;\n",
       "    }\n",
       "\n",
       "    .dataframe thead th {\n",
       "        text-align: right;\n",
       "    }\n",
       "</style>\n",
       "<table border=\"1\" class=\"dataframe\">\n",
       "  <thead>\n",
       "    <tr style=\"text-align: right;\">\n",
       "      <th></th>\n",
       "      <th>Stitch_number_modified</th>\n",
       "      <th>Stitch_path_length</th>\n",
       "      <th>x</th>\n",
       "      <th>y</th>\n",
       "      <th>measured_x1</th>\n",
       "      <th>measured_y1</th>\n",
       "      <th>measured_x2</th>\n",
       "      <th>measured_y2</th>\n",
       "      <th>measured_xm</th>\n",
       "      <th>measured_ym</th>\n",
       "      <th>Deviation_tot</th>\n",
       "      <th>Width</th>\n",
       "      <th>Radius_loc</th>\n",
       "      <th>Radius_locav</th>\n",
       "      <th>Radius_locav2</th>\n",
       "      <th>Radius_locav3</th>\n",
       "    </tr>\n",
       "  </thead>\n",
       "  <tbody>\n",
       "    <tr>\n",
       "      <th>0</th>\n",
       "      <td>1</td>\n",
       "      <td>0.0000</td>\n",
       "      <td>511.3638</td>\n",
       "      <td>-19.0811</td>\n",
       "      <td>510.8245</td>\n",
       "      <td>-17.9730</td>\n",
       "      <td>511.8639</td>\n",
       "      <td>-20.1088</td>\n",
       "      <td>511.3442</td>\n",
       "      <td>-19.0409</td>\n",
       "      <td>0.0447</td>\n",
       "      <td>2.3753</td>\n",
       "      <td>inf</td>\n",
       "      <td>299.8505</td>\n",
       "      <td>17.5033</td>\n",
       "      <td>11.7315</td>\n",
       "    </tr>\n",
       "    <tr>\n",
       "      <th>1</th>\n",
       "      <td>1</td>\n",
       "      <td>0.9591</td>\n",
       "      <td>512.3229</td>\n",
       "      <td>-19.0894</td>\n",
       "      <td>511.7820</td>\n",
       "      <td>-18.0891</td>\n",
       "      <td>512.8518</td>\n",
       "      <td>-20.0677</td>\n",
       "      <td>512.3169</td>\n",
       "      <td>-19.0784</td>\n",
       "      <td>0.0125</td>\n",
       "      <td>2.2493</td>\n",
       "      <td>inf</td>\n",
       "      <td>150.5194</td>\n",
       "      <td>15.6020</td>\n",
       "      <td>11.2740</td>\n",
       "    </tr>\n",
       "    <tr>\n",
       "      <th>2</th>\n",
       "      <td>1</td>\n",
       "      <td>1.9183</td>\n",
       "      <td>513.2820</td>\n",
       "      <td>-19.0977</td>\n",
       "      <td>512.7094</td>\n",
       "      <td>-18.1517</td>\n",
       "      <td>513.8795</td>\n",
       "      <td>-20.0851</td>\n",
       "      <td>513.2945</td>\n",
       "      <td>-19.1184</td>\n",
       "      <td>0.0242</td>\n",
       "      <td>2.2598</td>\n",
       "      <td>inf</td>\n",
       "      <td>81.0540</td>\n",
       "      <td>13.9990</td>\n",
       "      <td>10.8555</td>\n",
       "    </tr>\n",
       "    <tr>\n",
       "      <th>3</th>\n",
       "      <td>1</td>\n",
       "      <td>2.9018</td>\n",
       "      <td>514.2654</td>\n",
       "      <td>-19.1060</td>\n",
       "      <td>513.6625</td>\n",
       "      <td>-18.2269</td>\n",
       "      <td>514.9383</td>\n",
       "      <td>-20.0871</td>\n",
       "      <td>514.3004</td>\n",
       "      <td>-19.1570</td>\n",
       "      <td>0.0618</td>\n",
       "      <td>2.2557</td>\n",
       "      <td>-146.6106</td>\n",
       "      <td>45.6545</td>\n",
       "      <td>12.6165</td>\n",
       "      <td>10.4644</td>\n",
       "    </tr>\n",
       "    <tr>\n",
       "      <th>4</th>\n",
       "      <td>1</td>\n",
       "      <td>3.9667</td>\n",
       "      <td>515.3302</td>\n",
       "      <td>-19.1225</td>\n",
       "      <td>514.5880</td>\n",
       "      <td>-18.1910</td>\n",
       "      <td>516.1352</td>\n",
       "      <td>-20.1328</td>\n",
       "      <td>515.3616</td>\n",
       "      <td>-19.1619</td>\n",
       "      <td>0.0504</td>\n",
       "      <td>2.4828</td>\n",
       "      <td>-470.9179</td>\n",
       "      <td>26.2507</td>\n",
       "      <td>11.3705</td>\n",
       "      <td>10.0818</td>\n",
       "    </tr>\n",
       "  </tbody>\n",
       "</table>\n",
       "</div>"
      ],
      "text/plain": [
       "   Stitch_number_modified  Stitch_path_length         x        y  measured_x1  \\\n",
       "0                       1              0.0000  511.3638 -19.0811     510.8245   \n",
       "1                       1              0.9591  512.3229 -19.0894     511.7820   \n",
       "2                       1              1.9183  513.2820 -19.0977     512.7094   \n",
       "3                       1              2.9018  514.2654 -19.1060     513.6625   \n",
       "4                       1              3.9667  515.3302 -19.1225     514.5880   \n",
       "\n",
       "   measured_y1  measured_x2  measured_y2  measured_xm  measured_ym  \\\n",
       "0     -17.9730     511.8639     -20.1088     511.3442     -19.0409   \n",
       "1     -18.0891     512.8518     -20.0677     512.3169     -19.0784   \n",
       "2     -18.1517     513.8795     -20.0851     513.2945     -19.1184   \n",
       "3     -18.2269     514.9383     -20.0871     514.3004     -19.1570   \n",
       "4     -18.1910     516.1352     -20.1328     515.3616     -19.1619   \n",
       "\n",
       "   Deviation_tot   Width  Radius_loc  Radius_locav  Radius_locav2  \\\n",
       "0         0.0447  2.3753         inf      299.8505        17.5033   \n",
       "1         0.0125  2.2493         inf      150.5194        15.6020   \n",
       "2         0.0242  2.2598         inf       81.0540        13.9990   \n",
       "3         0.0618  2.2557   -146.6106       45.6545        12.6165   \n",
       "4         0.0504  2.4828   -470.9179       26.2507        11.3705   \n",
       "\n",
       "   Radius_locav3  \n",
       "0        11.7315  \n",
       "1        11.2740  \n",
       "2        10.8555  \n",
       "3        10.4644  \n",
       "4        10.0818  "
      ]
     },
     "execution_count": 2,
     "metadata": {},
     "output_type": "execute_result"
    }
   ],
   "source": [
    "# Loading data-cleaned up '#' in txt file before reading -> for correct header\n",
    "df = pd.read_csv(\"testpattern06_d4.0_R3.0_roving.txt\",delim_whitespace=True)\n",
    "df=df.drop(['#'], axis=1)\n",
    "df.head()"
   ]
  },
  {
   "cell_type": "code",
   "execution_count": 3,
   "id": "9d5d863c-d1a7-4d9f-a3e1-45529adbf165",
   "metadata": {},
   "outputs": [
    {
     "name": "stdout",
     "output_type": "stream",
     "text": [
      "<class 'pandas.core.frame.DataFrame'>\n",
      "RangeIndex: 2155 entries, 0 to 2154\n",
      "Data columns (total 16 columns):\n",
      " #   Column                  Non-Null Count  Dtype  \n",
      "---  ------                  --------------  -----  \n",
      " 0   Stitch_number_modified  2155 non-null   int64  \n",
      " 1   Stitch_path_length      2155 non-null   float64\n",
      " 2   x                       2155 non-null   float64\n",
      " 3   y                       2155 non-null   float64\n",
      " 4   measured_x1             2155 non-null   float64\n",
      " 5   measured_y1             2155 non-null   float64\n",
      " 6   measured_x2             2155 non-null   float64\n",
      " 7   measured_y2             2155 non-null   float64\n",
      " 8   measured_xm             2155 non-null   float64\n",
      " 9   measured_ym             2155 non-null   float64\n",
      " 10  Deviation_tot           2155 non-null   float64\n",
      " 11  Width                   2155 non-null   float64\n",
      " 12  Radius_loc              2155 non-null   float64\n",
      " 13  Radius_locav            2155 non-null   float64\n",
      " 14  Radius_locav2           2155 non-null   float64\n",
      " 15  Radius_locav3           2155 non-null   float64\n",
      "dtypes: float64(15), int64(1)\n",
      "memory usage: 269.5 KB\n"
     ]
    }
   ],
   "source": [
    "#checking information of dataset\n",
    "df.info()"
   ]
  },
  {
   "cell_type": "code",
   "execution_count": 4,
   "id": "b03d6b10",
   "metadata": {},
   "outputs": [
    {
     "data": {
      "text/plain": [
       "array([ 0.0447,  0.0125, -0.0242, ...,  0.0189,  0.3096,  0.6669])"
      ]
     },
     "execution_count": 4,
     "metadata": {},
     "output_type": "execute_result"
    }
   ],
   "source": [
    "#taking the sign of cross product's of x and y values and multiply signs with deviations.\n",
    "x=df['x'].values\n",
    "y=df['y'].values\n",
    "xm=df['measured_xm'].values\n",
    "ym=df['measured_ym'].values\n",
    "deviations_values=df['Deviation_tot'].values\n",
    "xy= np.concatenate((x[:,np.newaxis], y[:,np.newaxis]),axis=1)\n",
    "xmym=np.concatenate((xm[:,np.newaxis], ym[:,np.newaxis]),axis=1)\n",
    "dxym=xmym-xy\n",
    "dxy=xy[1:]-xy[:-1]\n",
    "dxy=np.concatenate((dxy[0,:][np.newaxis,:],dxy),axis=0)\n",
    "cross_product= np.cross(dxy,dxym)\n",
    "deviations=(np.sign(cross_product))*deviations_values\n",
    "deviations"
   ]
  },
  {
   "cell_type": "code",
   "execution_count": 9,
   "id": "fc50a8b8",
   "metadata": {},
   "outputs": [],
   "source": [
    "#slicing window\n",
    "\n",
    "def slidingWindow(x, y,  stitchwindow=5):\n",
    "    x_values = np.lib.stride_tricks.sliding_window_view(x, stitchwindow)\n",
    "    y_values = np.lib.stride_tricks.sliding_window_view(y, stitchwindow)\n",
    "    x_values = x_values - x_values[:, stitchwindow // 2][:, np.newaxis]\n",
    "    y_values = y_values - y_values[:, stitchwindow // 2][:, np.newaxis]\n",
    "    target = np.lib.stride_tricks.sliding_window_view(deviations, stitchwindow)[:,stitchwindow//2].copy()\n",
    "    features = np.concatenate((x_values, y_values), axis=1)\n",
    "    # drop 0 columns:\n",
    "    features = features[:,[i for i in range(2*stitchwindow) if i!=stitchwindow//2 and i!=(stitchwindow+stitchwindow//2)]].copy()\n",
    "    ind = np.random.permutation(np.arange(len(features))) # random permutation of dataset\n",
    "    features = features[ind].copy()\n",
    "    target = target[ind].copy()[:,np.newaxis]  # fix target shape again\n",
    "    return features, target, ind  # also return shuffle index\n",
    "    "
   ]
  },
  {
   "cell_type": "code",
   "execution_count": 10,
   "id": "a8443a83",
   "metadata": {},
   "outputs": [],
   "source": [
    "# do sliding window arangement:\n",
    "features, target, sortind =slidingWindow(df['x'].values,df['y'].values, stitchwindow=5)\n",
    "\n",
    "# resort data for later evaluation with backup data in original order\n",
    "resort = np.argsort(sortind)\n",
    "backupfeatures, backuptarget = features[resort,:].copy(), target[resort,:].copy()\n",
    "\n",
    "# split validation before enrichment -> because data is shuffled we just split after 20% \n",
    "fval = 0.2 # take 20% of that data\n",
    "Nval = int(features.shape[0]*fval)\n",
    "val_features, val_target = features[:Nval,:].copy(), target[:Nval,:].copy()\n",
    "features, target = features[Nval:,:].copy(), target[Nval:,:].copy() # now only 80% are used for enrichment"
   ]
  },
  {
   "cell_type": "code",
   "execution_count": 12,
   "id": "9e4cf4ca",
   "metadata": {},
   "outputs": [
    {
     "data": {
      "text/plain": [
       "array([[-3.7000e-03,  9.9000e-03, -1.0000e-02, ..., -3.9029e+00,\n",
       "         4.0029e+00,  8.0059e+00],\n",
       "       [-7.8036e+00, -3.9017e+00,  3.9016e+00, ..., -9.1020e-01,\n",
       "         1.0103e+00,  2.1204e+00],\n",
       "       [ 4.1013e+00,  2.5030e+00, -3.3038e+00, ...,  3.0854e+00,\n",
       "        -2.2861e+00, -3.5727e+00],\n",
       "       ...,\n",
       "       [ 5.4782e+00,  2.6890e+00, -2.3888e+00, ...,  3.0049e+00,\n",
       "        -3.2045e+00, -6.6088e+00],\n",
       "       [ 8.6737e+00,  4.3560e+00, -4.3559e+00, ...,  6.4000e-03,\n",
       "        -6.5000e-03, -4.0376e+00],\n",
       "       [-5.0776e+00, -2.6403e+00,  2.6914e+00, ..., -3.0741e+00,\n",
       "         2.8947e+00,  5.7894e+00]])"
      ]
     },
     "execution_count": 12,
     "metadata": {},
     "output_type": "execute_result"
    }
   ],
   "source": [
    "features"
   ]
  },
  {
   "cell_type": "code",
   "execution_count": 13,
   "id": "90520933",
   "metadata": {},
   "outputs": [],
   "source": [
    "def rotationEnrich(features, target, stitchwindow=5):\n",
    "    n = stitchwindow\n",
    "    alpha = np.arange( 0,2*np.pi, 2*np.pi/100)[:, np.newaxis, np.newaxis]\n",
    "    co, si = np.cos(alpha), np.sin(alpha)\n",
    "    newfeatures = np.zeros((alpha.shape[0],) + features.shape)\n",
    "    # shorthand variables:\n",
    "    nf = newfeatures[:, :, :]\n",
    "    f = features[np.newaxis, :, :]\n",
    "    nf[:, :, : (n - 1)] = co * f[:, :, : (n - 1)] - si * f[:, :, (n - 1) :]\n",
    "    nf[:, :, (n - 1) :] = si * f[:, :, : (n - 1)] + co * f[:, :, (n - 1) :]\n",
    "    newfeatures = newfeatures.reshape(-1, features.shape[1])\n",
    "    newtarget = target.reshape(1, -1).repeat(alpha.shape[0], axis=0).ravel()\n",
    "    \n",
    "    return newfeatures, newtarget[:,np.newaxis]  # fix target shape again"
   ]
  },
  {
   "cell_type": "code",
   "execution_count": 14,
   "id": "9daed092",
   "metadata": {},
   "outputs": [],
   "source": [
    "features,target=rotationEnrich(features, target, stitchwindow=5)"
   ]
  },
  {
   "cell_type": "code",
   "execution_count": 15,
   "id": "5ec2b27a",
   "metadata": {},
   "outputs": [
    {
     "data": {
      "text/plain": [
       "(172100, 1)"
      ]
     },
     "execution_count": 15,
     "metadata": {},
     "output_type": "execute_result"
    }
   ],
   "source": [
    "target.shape"
   ]
  },
  {
   "cell_type": "code",
   "execution_count": 17,
   "id": "bf6b4219",
   "metadata": {},
   "outputs": [
    {
     "data": {
      "text/plain": [
       "array([[-3.70000000e-03,  9.90000000e-03, -1.00000000e-02, ...,\n",
       "        -3.90290000e+00,  4.00290000e+00,  8.00590000e+00],\n",
       "       [-7.80360000e+00, -3.90170000e+00,  3.90160000e+00, ...,\n",
       "        -9.10200000e-01,  1.01030000e+00,  2.12040000e+00],\n",
       "       [ 4.10130000e+00,  2.50300000e+00, -3.30380000e+00, ...,\n",
       "         3.08540000e+00, -2.28610000e+00, -3.57270000e+00],\n",
       "       ...,\n",
       "       [ 5.83219038e+00,  2.87237310e+00, -2.58529847e+00, ...,\n",
       "         2.83012681e+00, -3.04818266e+00, -6.31462077e+00],\n",
       "       [ 8.65839280e+00,  4.34780629e+00, -4.34771276e+00, ...,\n",
       "        -2.67128132e-01,  2.67022050e-01, -3.75854721e+00],\n",
       "       [-5.46016568e+00, -2.82811431e+00,  2.86784885e+00, ...,\n",
       "        -2.90224816e+00,  2.71999357e+00,  5.43998713e+00]])"
      ]
     },
     "execution_count": 17,
     "metadata": {},
     "output_type": "execute_result"
    }
   ],
   "source": [
    "features"
   ]
  },
  {
   "cell_type": "code",
   "execution_count": 18,
   "id": "3932ebac",
   "metadata": {},
   "outputs": [],
   "source": [
    "# convert to tensors\n",
    "features=torch.Tensor(features)\n",
    "target = torch.Tensor(target)\n",
    "# use small size validation of non enriched data\n",
    "val_features=torch.Tensor(val_features)\n",
    "val_target = torch.Tensor(val_target)\n"
   ]
  },
  {
   "cell_type": "code",
   "execution_count": 19,
   "id": "de078eb4-6404-4da3-af62-d983c6017656",
   "metadata": {},
   "outputs": [],
   "source": [
    "#CNN structure\n",
    "class MyModel(nn.Module):\n",
    "    def __init__(self, n_features):\n",
    "        super(MyModel, self).__init__()\n",
    "        self.layer1 = nn.Linear(n_features, 64)\n",
    "        self.layer2 = nn.Linear(64, 32)\n",
    "        self.layer3 = nn.Linear(32, 16)\n",
    "        self.layer4 = nn.Linear(16,8)\n",
    "        self.layer5 = nn.Linear(8,1)\n",
    "    def forward(self, x):\n",
    "        x = self.layer1(x)\n",
    "        x = torch.relu(x)\n",
    "        x = self.layer2(x)\n",
    "        x = torch.relu(x)\n",
    "        x = self.layer3(x)\n",
    "        x = torch.relu(x)\n",
    "        x = self.layer4(x)\n",
    "        x = torch.relu(x)\n",
    "        x = self.layer5(x)\n",
    "        return x"
   ]
  },
  {
   "cell_type": "code",
   "execution_count": 20,
   "id": "357b2d92-7f54-478b-a025-68d57fea399f",
   "metadata": {},
   "outputs": [],
   "source": [
    "#compiling the model\n",
    "model = MyModel(n_features=features.shape[1])\n",
    "criterion = nn.MSELoss()\n",
    "optimizer = torch.optim.Adam(model.parameters())\n"
   ]
  },
  {
   "cell_type": "code",
   "execution_count": 21,
   "id": "2cbb710e-e84f-45ed-aeec-81d2c51af272",
   "metadata": {
    "scrolled": true,
    "tags": []
   },
   "outputs": [
    {
     "name": "stdout",
     "output_type": "stream",
     "text": [
      "Epoch 0, Loss: 2.3943369388580322, validation loss 3.064136266708374\n",
      "Epoch 10, Loss: 2.3712968826293945, validation loss 3.0459280014038086\n",
      "Epoch 20, Loss: 2.351504325866699, validation loss 3.0277364253997803\n",
      "Epoch 30, Loss: 2.326975107192993, validation loss 3.0004048347473145\n",
      "Epoch 40, Loss: 2.285261869430542, validation loss 2.951714038848877\n",
      "Epoch 50, Loss: 2.2160818576812744, validation loss 2.868799924850464\n",
      "Epoch 60, Loss: 2.1074533462524414, validation loss 2.7181520462036133\n",
      "Epoch 70, Loss: 1.9787086248397827, validation loss 2.571843385696411\n",
      "Epoch 80, Loss: 1.8607455492019653, validation loss 2.5010931491851807\n",
      "Epoch 90, Loss: 1.7789301872253418, validation loss 2.523585319519043\n",
      "Epoch 100, Loss: 1.736984133720398, validation loss 2.500828266143799\n",
      "Epoch 110, Loss: 1.7098525762557983, validation loss 2.466917037963867\n",
      "Epoch 120, Loss: 1.6881004571914673, validation loss 2.4395644664764404\n",
      "Epoch 130, Loss: 1.6702178716659546, validation loss 2.408515453338623\n",
      "Epoch 140, Loss: 1.6546128988265991, validation loss 2.3782215118408203\n",
      "Epoch 150, Loss: 1.64167058467865, validation loss 2.3676581382751465\n",
      "Epoch 160, Loss: 1.6287555694580078, validation loss 2.353307008743286\n",
      "Epoch 170, Loss: 1.616290807723999, validation loss 2.3341219425201416\n",
      "Epoch 180, Loss: 1.6039506196975708, validation loss 2.306910514831543\n",
      "Epoch 190, Loss: 1.5930955410003662, validation loss 2.2857134342193604\n",
      "Epoch 200, Loss: 1.5829826593399048, validation loss 2.2561464309692383\n",
      "Epoch 210, Loss: 1.5721817016601562, validation loss 2.2378034591674805\n",
      "Epoch 220, Loss: 1.5624257326126099, validation loss 2.2101993560791016\n",
      "Epoch 230, Loss: 1.5518832206726074, validation loss 2.1875550746917725\n",
      "Epoch 240, Loss: 1.5407769680023193, validation loss 2.1588852405548096\n",
      "Epoch 250, Loss: 1.528416395187378, validation loss 2.1217105388641357\n",
      "Epoch 260, Loss: 1.5138237476348877, validation loss 2.078238010406494\n",
      "Epoch 270, Loss: 1.499104619026184, validation loss 2.0395326614379883\n",
      "Epoch 280, Loss: 1.483817219734192, validation loss 2.01318621635437\n",
      "Epoch 290, Loss: 1.467063546180725, validation loss 1.9785263538360596\n",
      "Epoch 300, Loss: 1.4487847089767456, validation loss 1.9345251321792603\n",
      "Epoch 310, Loss: 1.429591417312622, validation loss 1.8897782564163208\n",
      "Epoch 320, Loss: 1.409820795059204, validation loss 1.8430331945419312\n",
      "Epoch 330, Loss: 1.3926031589508057, validation loss 1.7974263429641724\n",
      "Epoch 340, Loss: 1.3715009689331055, validation loss 1.7553472518920898\n",
      "Epoch 350, Loss: 1.3476080894470215, validation loss 1.719130516052246\n",
      "Epoch 360, Loss: 1.3270245790481567, validation loss 1.6859136819839478\n",
      "Epoch 370, Loss: 1.3050540685653687, validation loss 1.65811026096344\n",
      "Epoch 380, Loss: 1.2826533317565918, validation loss 1.64687979221344\n",
      "Epoch 390, Loss: 1.2650928497314453, validation loss 1.6141860485076904\n",
      "Epoch 400, Loss: 1.2360426187515259, validation loss 1.5855252742767334\n",
      "Epoch 410, Loss: 1.2147562503814697, validation loss 1.5710421800613403\n",
      "Epoch 420, Loss: 1.1910442113876343, validation loss 1.5480254888534546\n",
      "Epoch 430, Loss: 1.167052984237671, validation loss 1.5318461656570435\n",
      "Epoch 440, Loss: 1.1433762311935425, validation loss 1.5100340843200684\n",
      "Epoch 450, Loss: 1.1293481588363647, validation loss 1.493251085281372\n",
      "Epoch 460, Loss: 1.1053415536880493, validation loss 1.4536463022232056\n",
      "Epoch 470, Loss: 1.0772794485092163, validation loss 1.4257919788360596\n",
      "Epoch 480, Loss: 1.0539911985397339, validation loss 1.401277780532837\n",
      "Epoch 490, Loss: 1.0340938568115234, validation loss 1.3760088682174683\n",
      "Epoch 500, Loss: 1.0149312019348145, validation loss 1.3490480184555054\n",
      "Epoch 510, Loss: 0.9980406761169434, validation loss 1.3471126556396484\n",
      "Epoch 520, Loss: 0.9832005500793457, validation loss 1.3426729440689087\n",
      "Epoch 530, Loss: 0.9709054231643677, validation loss 1.3332246541976929\n",
      "Epoch 540, Loss: 0.9769756197929382, validation loss 1.3508567810058594\n",
      "Epoch 550, Loss: 0.958577573299408, validation loss 1.326176404953003\n",
      "Epoch 560, Loss: 0.9440740942955017, validation loss 1.3168147802352905\n",
      "Epoch 570, Loss: 0.9381095767021179, validation loss 1.3112049102783203\n",
      "Epoch 580, Loss: 0.9310976266860962, validation loss 1.3069227933883667\n",
      "Epoch 590, Loss: 0.9255461692810059, validation loss 1.297908902168274\n",
      "Epoch 600, Loss: 0.9204650521278381, validation loss 1.287716269493103\n",
      "Epoch 610, Loss: 0.9159483909606934, validation loss 1.2820911407470703\n",
      "Epoch 620, Loss: 0.9117575287818909, validation loss 1.2765576839447021\n",
      "Epoch 630, Loss: 0.9079232811927795, validation loss 1.272128701210022\n",
      "Epoch 640, Loss: 0.9044390916824341, validation loss 1.2680984735488892\n",
      "Epoch 650, Loss: 0.9012165069580078, validation loss 1.2652392387390137\n",
      "Epoch 660, Loss: 0.8985773324966431, validation loss 1.2601205110549927\n",
      "Epoch 670, Loss: 0.9086606502532959, validation loss 1.2686069011688232\n",
      "Epoch 680, Loss: 0.8952386975288391, validation loss 1.259933590888977\n",
      "Epoch 690, Loss: 0.8916012048721313, validation loss 1.2509325742721558\n",
      "Epoch 700, Loss: 0.8890441656112671, validation loss 1.2452484369277954\n",
      "Epoch 710, Loss: 0.8870588541030884, validation loss 1.2404698133468628\n",
      "Epoch 720, Loss: 0.8851062059402466, validation loss 1.2374104261398315\n",
      "Epoch 730, Loss: 0.8832332491874695, validation loss 1.2358386516571045\n",
      "Epoch 740, Loss: 0.8814851641654968, validation loss 1.2335783243179321\n",
      "Epoch 750, Loss: 0.8798390030860901, validation loss 1.230778455734253\n",
      "Epoch 760, Loss: 0.8784008026123047, validation loss 1.2280066013336182\n",
      "Epoch 770, Loss: 0.8857529163360596, validation loss 1.2386738061904907\n",
      "Epoch 780, Loss: 0.8778957724571228, validation loss 1.2187525033950806\n",
      "Epoch 790, Loss: 0.874955952167511, validation loss 1.2161016464233398\n",
      "Epoch 800, Loss: 0.8726115822792053, validation loss 1.2137160301208496\n",
      "Epoch 810, Loss: 0.871375560760498, validation loss 1.2112730741500854\n",
      "Epoch 820, Loss: 0.870048463344574, validation loss 1.208694338798523\n",
      "Epoch 830, Loss: 0.8687419891357422, validation loss 1.2081222534179688\n",
      "Epoch 840, Loss: 0.8674764037132263, validation loss 1.2074482440948486\n",
      "Epoch 850, Loss: 0.8663063645362854, validation loss 1.2072291374206543\n",
      "Epoch 860, Loss: 0.8672005534172058, validation loss 1.2051339149475098\n",
      "Epoch 870, Loss: 0.8645353317260742, validation loss 1.2039803266525269\n",
      "Epoch 880, Loss: 0.8640987873077393, validation loss 1.1947746276855469\n",
      "Epoch 890, Loss: 0.8627844452857971, validation loss 1.1918998956680298\n",
      "Epoch 900, Loss: 0.860805869102478, validation loss 1.1881709098815918\n",
      "Epoch 910, Loss: 0.8598408699035645, validation loss 1.187248706817627\n",
      "Epoch 920, Loss: 0.858642578125, validation loss 1.1864678859710693\n",
      "Epoch 930, Loss: 0.8575372099876404, validation loss 1.1810001134872437\n",
      "Epoch 940, Loss: 0.856429398059845, validation loss 1.1832252740859985\n",
      "Epoch 950, Loss: 0.8553124070167542, validation loss 1.183995246887207\n",
      "Epoch 960, Loss: 0.8560906648635864, validation loss 1.1824328899383545\n",
      "Epoch 970, Loss: 0.8530526161193848, validation loss 1.1795222759246826\n",
      "Epoch 980, Loss: 0.8537874817848206, validation loss 1.1774723529815674\n",
      "Epoch 990, Loss: 0.8519423007965088, validation loss 1.1753325462341309\n",
      "Epoch 1000, Loss: 0.8499220013618469, validation loss 1.1745026111602783\n",
      "Epoch 1010, Loss: 0.8490703701972961, validation loss 1.173555850982666\n",
      "Epoch 1020, Loss: 0.8479368090629578, validation loss 1.1720538139343262\n",
      "Epoch 1030, Loss: 0.8469535112380981, validation loss 1.1722532510757446\n",
      "Epoch 1040, Loss: 0.8459732532501221, validation loss 1.1688556671142578\n",
      "Epoch 1050, Loss: 0.844998836517334, validation loss 1.1665412187576294\n",
      "Epoch 1060, Loss: 0.8440458178520203, validation loss 1.1646127700805664\n",
      "Epoch 1070, Loss: 0.8432757258415222, validation loss 1.162361741065979\n",
      "Epoch 1080, Loss: 0.8623867630958557, validation loss 1.17949378490448\n",
      "Epoch 1090, Loss: 0.8415785431861877, validation loss 1.1593323945999146\n",
      "Epoch 1100, Loss: 0.8405376672744751, validation loss 1.1491161584854126\n",
      "Epoch 1110, Loss: 0.8396400213241577, validation loss 1.1424572467803955\n",
      "Epoch 1120, Loss: 0.8387765884399414, validation loss 1.138380765914917\n",
      "Epoch 1130, Loss: 0.837992250919342, validation loss 1.1322683095932007\n",
      "Epoch 1140, Loss: 0.8371461629867554, validation loss 1.130788803100586\n",
      "Epoch 1150, Loss: 0.8362882137298584, validation loss 1.1263989210128784\n",
      "Epoch 1160, Loss: 0.83549565076828, validation loss 1.1243243217468262\n",
      "Epoch 1170, Loss: 0.8347144722938538, validation loss 1.127255916595459\n",
      "Epoch 1180, Loss: 0.8339163064956665, validation loss 1.1263452768325806\n",
      "Epoch 1190, Loss: 0.8331188559532166, validation loss 1.1245594024658203\n",
      "Epoch 1200, Loss: 0.8323379158973694, validation loss 1.12118661403656\n",
      "Epoch 1210, Loss: 0.831821620464325, validation loss 1.1218867301940918\n",
      "Epoch 1220, Loss: 0.8502042889595032, validation loss 1.1394197940826416\n",
      "Epoch 1230, Loss: 0.8301920294761658, validation loss 1.1178271770477295\n",
      "Epoch 1240, Loss: 0.8301447033882141, validation loss 1.1186065673828125\n",
      "Epoch 1250, Loss: 0.8295027613639832, validation loss 1.1164748668670654\n",
      "Epoch 1260, Loss: 0.8284177184104919, validation loss 1.1150152683258057\n",
      "Epoch 1270, Loss: 0.827438473701477, validation loss 1.1130331754684448\n",
      "Epoch 1280, Loss: 0.8267955780029297, validation loss 1.110851764678955\n",
      "Epoch 1290, Loss: 0.8260859251022339, validation loss 1.109305739402771\n",
      "Epoch 1300, Loss: 0.8253998160362244, validation loss 1.1051613092422485\n",
      "Epoch 1310, Loss: 0.8247345089912415, validation loss 1.1040067672729492\n",
      "Epoch 1320, Loss: 0.8240835666656494, validation loss 1.1035456657409668\n",
      "Epoch 1330, Loss: 0.8234437704086304, validation loss 1.1049498319625854\n",
      "Epoch 1340, Loss: 0.8228102326393127, validation loss 1.1042717695236206\n",
      "Epoch 1350, Loss: 0.8228923678398132, validation loss 1.1011664867401123\n",
      "Epoch 1360, Loss: 0.8304842710494995, validation loss 1.0930150747299194\n",
      "Epoch 1370, Loss: 0.8236836194992065, validation loss 1.0918209552764893\n",
      "Epoch 1380, Loss: 0.8205323815345764, validation loss 1.096588373184204\n",
      "Epoch 1390, Loss: 0.8202407956123352, validation loss 1.0940510034561157\n",
      "Epoch 1400, Loss: 0.8196596503257751, validation loss 1.0946730375289917\n",
      "Epoch 1410, Loss: 0.8189961314201355, validation loss 1.0951581001281738\n",
      "Epoch 1420, Loss: 0.8183853626251221, validation loss 1.0928171873092651\n",
      "Epoch 1430, Loss: 0.817852258682251, validation loss 1.0920706987380981\n",
      "Epoch 1440, Loss: 0.8173204064369202, validation loss 1.09345281124115\n",
      "Epoch 1450, Loss: 0.816791832447052, validation loss 1.0925002098083496\n",
      "Epoch 1460, Loss: 0.8162786960601807, validation loss 1.0934885740280151\n",
      "Epoch 1470, Loss: 0.8157505393028259, validation loss 1.0976619720458984\n",
      "Epoch 1480, Loss: 0.8152076601982117, validation loss 1.0997114181518555\n",
      "Epoch 1490, Loss: 0.8146772384643555, validation loss 1.0958653688430786\n",
      "Epoch 1500, Loss: 0.8141363859176636, validation loss 1.0969741344451904\n",
      "Epoch 1510, Loss: 0.8136034607887268, validation loss 1.0958030223846436\n",
      "Epoch 1520, Loss: 0.813086748123169, validation loss 1.0941911935806274\n",
      "Epoch 1530, Loss: 0.8133093118667603, validation loss 1.0945498943328857\n",
      "Epoch 1540, Loss: 0.8268396854400635, validation loss 1.0931802988052368\n",
      "Epoch 1550, Loss: 0.8182768225669861, validation loss 1.087415099143982\n",
      "Epoch 1560, Loss: 0.8129305243492126, validation loss 1.0891084671020508\n",
      "Epoch 1570, Loss: 0.8111270666122437, validation loss 1.090968370437622\n",
      "Epoch 1580, Loss: 0.8104258179664612, validation loss 1.0876809358596802\n",
      "Epoch 1590, Loss: 0.8099250197410583, validation loss 1.0875686407089233\n",
      "Epoch 1600, Loss: 0.8094599843025208, validation loss 1.0894216299057007\n",
      "Epoch 1610, Loss: 0.8089956045150757, validation loss 1.0885837078094482\n",
      "Epoch 1620, Loss: 0.8085588812828064, validation loss 1.0878323316574097\n",
      "Epoch 1630, Loss: 0.8081330060958862, validation loss 1.0887318849563599\n",
      "Epoch 1640, Loss: 0.8076881170272827, validation loss 1.0879071950912476\n",
      "Epoch 1650, Loss: 0.8072301745414734, validation loss 1.0877679586410522\n",
      "Epoch 1660, Loss: 0.8067961931228638, validation loss 1.0871351957321167\n",
      "Epoch 1670, Loss: 0.8063804507255554, validation loss 1.0852831602096558\n",
      "Epoch 1680, Loss: 0.8059718012809753, validation loss 1.0847736597061157\n",
      "Epoch 1690, Loss: 0.8055700659751892, validation loss 1.0839123725891113\n",
      "Epoch 1700, Loss: 0.8052299618721008, validation loss 1.0820022821426392\n",
      "Epoch 1710, Loss: 0.8161199688911438, validation loss 1.0949147939682007\n",
      "Epoch 1720, Loss: 0.8161486983299255, validation loss 1.0925004482269287\n",
      "Epoch 1730, Loss: 0.8075662851333618, validation loss 1.086242914199829\n",
      "Epoch 1740, Loss: 0.804530143737793, validation loss 1.0858718156814575\n",
      "Epoch 1750, Loss: 0.8032529950141907, validation loss 1.0827679634094238\n",
      "Epoch 1760, Loss: 0.802645742893219, validation loss 1.0812395811080933\n",
      "Epoch 1770, Loss: 0.8022964596748352, validation loss 1.0810596942901611\n",
      "Epoch 1780, Loss: 0.8018491864204407, validation loss 1.080641746520996\n",
      "Epoch 1790, Loss: 0.8014309406280518, validation loss 1.07968008518219\n",
      "Epoch 1800, Loss: 0.8010172247886658, validation loss 1.0804873704910278\n",
      "Epoch 1810, Loss: 0.8006158471107483, validation loss 1.0821291208267212\n",
      "Epoch 1820, Loss: 0.8001914024353027, validation loss 1.0798403024673462\n",
      "Epoch 1830, Loss: 0.7997725605964661, validation loss 1.079624891281128\n",
      "Epoch 1840, Loss: 0.7993496656417847, validation loss 1.0785975456237793\n",
      "Epoch 1850, Loss: 0.7989259362220764, validation loss 1.0771454572677612\n",
      "Epoch 1860, Loss: 0.7988210916519165, validation loss 1.0756012201309204\n",
      "Epoch 1870, Loss: 0.8261265158653259, validation loss 1.0933723449707031\n",
      "Epoch 1880, Loss: 0.7977502346038818, validation loss 1.0752748250961304\n",
      "Epoch 1890, Loss: 0.7976064682006836, validation loss 1.0740890502929688\n",
      "Epoch 1900, Loss: 0.7973101735115051, validation loss 1.074566125869751\n",
      "Epoch 1910, Loss: 0.7968361377716064, validation loss 1.07451593875885\n",
      "Epoch 1920, Loss: 0.7962402105331421, validation loss 1.0743436813354492\n",
      "Epoch 1930, Loss: 0.7957162261009216, validation loss 1.0737147331237793\n",
      "Epoch 1940, Loss: 0.7953311204910278, validation loss 1.074939489364624\n",
      "Epoch 1950, Loss: 0.7949112057685852, validation loss 1.0763752460479736\n",
      "Epoch 1960, Loss: 0.7945131063461304, validation loss 1.0737791061401367\n",
      "Epoch 1970, Loss: 0.7941060662269592, validation loss 1.073791742324829\n",
      "Epoch 1980, Loss: 0.7936726212501526, validation loss 1.0744560956954956\n",
      "Epoch 1990, Loss: 0.793244481086731, validation loss 1.0721755027770996\n",
      "Epoch 2000, Loss: 0.7928099632263184, validation loss 1.0722953081130981\n",
      "Epoch 2010, Loss: 0.7923874855041504, validation loss 1.0716943740844727\n",
      "Epoch 2020, Loss: 0.7919862866401672, validation loss 1.0725562572479248\n",
      "Epoch 2030, Loss: 0.7924847602844238, validation loss 1.0695364475250244\n",
      "Epoch 2040, Loss: 0.8095285892486572, validation loss 1.0699267387390137\n",
      "Epoch 2050, Loss: 0.799187421798706, validation loss 1.0681726932525635\n",
      "Epoch 2060, Loss: 0.7930721640586853, validation loss 1.0674058198928833\n",
      "Epoch 2070, Loss: 0.7908766865730286, validation loss 1.0650864839553833\n",
      "Epoch 2080, Loss: 0.7899754047393799, validation loss 1.0641789436340332\n",
      "Epoch 2090, Loss: 0.7893857359886169, validation loss 1.0632747411727905\n",
      "Epoch 2100, Loss: 0.7888715863227844, validation loss 1.0634210109710693\n",
      "Epoch 2110, Loss: 0.7884378433227539, validation loss 1.0616239309310913\n",
      "Epoch 2120, Loss: 0.7880674600601196, validation loss 1.0617514848709106\n",
      "Epoch 2130, Loss: 0.7876866459846497, validation loss 1.0613620281219482\n",
      "Epoch 2140, Loss: 0.7873165011405945, validation loss 1.0605099201202393\n",
      "Epoch 2150, Loss: 0.7869080305099487, validation loss 1.0584466457366943\n",
      "Epoch 2160, Loss: 0.7865107655525208, validation loss 1.0564268827438354\n",
      "Epoch 2170, Loss: 0.7861081957817078, validation loss 1.0541528463363647\n",
      "Epoch 2180, Loss: 0.7857145071029663, validation loss 1.053572654724121\n",
      "Epoch 2190, Loss: 0.785328209400177, validation loss 1.050844430923462\n",
      "Epoch 2200, Loss: 0.7849631309509277, validation loss 1.0551401376724243\n",
      "Epoch 2210, Loss: 0.7846167087554932, validation loss 1.0512139797210693\n",
      "Epoch 2220, Loss: 0.7843896150588989, validation loss 1.0540580749511719\n",
      "Epoch 2230, Loss: 0.8111390471458435, validation loss 1.0783604383468628\n",
      "Epoch 2240, Loss: 0.7854998707771301, validation loss 1.0566962957382202\n",
      "Epoch 2250, Loss: 0.7834871411323547, validation loss 1.0534248352050781\n",
      "Epoch 2260, Loss: 0.7836433053016663, validation loss 1.0526504516601562\n",
      "Epoch 2270, Loss: 0.7833489179611206, validation loss 1.0549538135528564\n",
      "Epoch 2280, Loss: 0.7828526496887207, validation loss 1.0542821884155273\n",
      "Epoch 2290, Loss: 0.782458484172821, validation loss 1.0543895959854126\n",
      "Epoch 2300, Loss: 0.7821589708328247, validation loss 1.0577163696289062\n",
      "Epoch 2310, Loss: 0.7819064855575562, validation loss 1.053771734237671\n",
      "Epoch 2320, Loss: 0.7816723585128784, validation loss 1.057075023651123\n",
      "Epoch 2330, Loss: 0.7814381122589111, validation loss 1.0562422275543213\n",
      "Epoch 2340, Loss: 0.7811996936798096, validation loss 1.0555024147033691\n",
      "Epoch 2350, Loss: 0.7809612154960632, validation loss 1.0567821264266968\n",
      "Epoch 2360, Loss: 0.7807124257087708, validation loss 1.0555790662765503\n",
      "Epoch 2370, Loss: 0.7804686427116394, validation loss 1.0528228282928467\n",
      "Epoch 2380, Loss: 0.7802429795265198, validation loss 1.0509467124938965\n",
      "Epoch 2390, Loss: 0.7800113558769226, validation loss 1.0535099506378174\n",
      "Epoch 2400, Loss: 0.7797852158546448, validation loss 1.0516842603683472\n",
      "Epoch 2410, Loss: 0.7795631289482117, validation loss 1.0538421869277954\n",
      "Epoch 2420, Loss: 0.7795277237892151, validation loss 1.0539549589157104\n",
      "Epoch 2430, Loss: 0.7852199673652649, validation loss 1.0657339096069336\n",
      "Epoch 2440, Loss: 0.7793906927108765, validation loss 1.0485891103744507\n",
      "Epoch 2450, Loss: 0.7811530232429504, validation loss 1.0546643733978271\n",
      "Epoch 2460, Loss: 0.7792053818702698, validation loss 1.0494236946105957\n",
      "Epoch 2470, Loss: 0.7782657146453857, validation loss 1.0507904291152954\n",
      "Epoch 2480, Loss: 0.7780340313911438, validation loss 1.04936945438385\n",
      "Epoch 2490, Loss: 0.7778140306472778, validation loss 1.0523014068603516\n",
      "Epoch 2500, Loss: 0.7776188254356384, validation loss 1.0548813343048096\n",
      "Epoch 2510, Loss: 0.7774044871330261, validation loss 1.051371693611145\n",
      "Epoch 2520, Loss: 0.7771920561790466, validation loss 1.05069100856781\n",
      "Epoch 2530, Loss: 0.777072548866272, validation loss 1.051724910736084\n",
      "Epoch 2540, Loss: 0.7802504897117615, validation loss 1.060349464416504\n",
      "Epoch 2550, Loss: 0.7782740592956543, validation loss 1.050073266029358\n",
      "Epoch 2560, Loss: 0.7768198847770691, validation loss 1.0543714761734009\n",
      "Epoch 2570, Loss: 0.7772305607795715, validation loss 1.0537710189819336\n",
      "Epoch 2580, Loss: 0.7762848734855652, validation loss 1.0522797107696533\n",
      "Epoch 2590, Loss: 0.7757329344749451, validation loss 1.0553256273269653\n",
      "Epoch 2600, Loss: 0.7754413485527039, validation loss 1.0524920225143433\n",
      "Epoch 2610, Loss: 0.7751865983009338, validation loss 1.0599645376205444\n",
      "Epoch 2620, Loss: 0.7749041318893433, validation loss 1.057142972946167\n",
      "Epoch 2630, Loss: 0.7746610641479492, validation loss 1.0592905282974243\n",
      "Epoch 2640, Loss: 0.7744289040565491, validation loss 1.062223196029663\n",
      "Epoch 2650, Loss: 0.7749236226081848, validation loss 1.0600504875183105\n",
      "Epoch 2660, Loss: 0.795907735824585, validation loss 1.0840308666229248\n",
      "Epoch 2670, Loss: 0.775650143623352, validation loss 1.0605370998382568\n",
      "Epoch 2680, Loss: 0.7755988240242004, validation loss 1.0599061250686646\n",
      "Epoch 2690, Loss: 0.7733367085456848, validation loss 1.061387062072754\n",
      "Epoch 2700, Loss: 0.773327112197876, validation loss 1.0606991052627563\n",
      "Epoch 2710, Loss: 0.772873044013977, validation loss 1.0584722757339478\n",
      "Epoch 2720, Loss: 0.7725648283958435, validation loss 1.057207703590393\n",
      "Epoch 2730, Loss: 0.7723411321640015, validation loss 1.058249831199646\n",
      "Epoch 2740, Loss: 0.7721241116523743, validation loss 1.060298204421997\n",
      "Epoch 2750, Loss: 0.7718986868858337, validation loss 1.0518208742141724\n",
      "Epoch 2760, Loss: 0.7716895341873169, validation loss 1.0569795370101929\n",
      "Epoch 2770, Loss: 0.7714804410934448, validation loss 1.0578066110610962\n",
      "Epoch 2780, Loss: 0.7712881565093994, validation loss 1.0543802976608276\n",
      "Epoch 2790, Loss: 0.7710847854614258, validation loss 1.0550881624221802\n",
      "Epoch 2800, Loss: 0.771634042263031, validation loss 1.0568435192108154\n",
      "Epoch 2810, Loss: 0.7946785092353821, validation loss 1.068251132965088\n",
      "Epoch 2820, Loss: 0.7711803913116455, validation loss 1.0555182695388794\n",
      "Epoch 2830, Loss: 0.7728611826896667, validation loss 1.0628256797790527\n",
      "Epoch 2840, Loss: 0.7702922821044922, validation loss 1.0612497329711914\n",
      "Epoch 2850, Loss: 0.7702083587646484, validation loss 1.0581399202346802\n",
      "Epoch 2860, Loss: 0.769821047782898, validation loss 1.0539456605911255\n",
      "Epoch 2870, Loss: 0.7696707844734192, validation loss 1.0531059503555298\n",
      "Epoch 2880, Loss: 0.7694618105888367, validation loss 1.055208683013916\n",
      "Epoch 2890, Loss: 0.7692909240722656, validation loss 1.0566695928573608\n",
      "Epoch 2900, Loss: 0.7691160440444946, validation loss 1.0544846057891846\n",
      "Epoch 2910, Loss: 0.7689261436462402, validation loss 1.0549650192260742\n",
      "Epoch 2920, Loss: 0.7687501907348633, validation loss 1.0547446012496948\n",
      "Epoch 2930, Loss: 0.7685647010803223, validation loss 1.0532619953155518\n",
      "Epoch 2940, Loss: 0.7684135437011719, validation loss 1.0567854642868042\n",
      "Epoch 2950, Loss: 0.7682247757911682, validation loss 1.0555890798568726\n",
      "Epoch 2960, Loss: 0.7680866718292236, validation loss 1.054234504699707\n",
      "Epoch 2970, Loss: 0.771209716796875, validation loss 1.061590552330017\n",
      "Epoch 2980, Loss: 0.7698867917060852, validation loss 1.052208423614502\n",
      "Epoch 2990, Loss: 0.7715268135070801, validation loss 1.0602660179138184\n"
     ]
    }
   ],
   "source": [
    "#Training the models\n",
    "\n",
    "losses = []\n",
    "val_losses = []\n",
    "for epoch in range(3000):\n",
    "\n",
    "    # Forward pass\n",
    "    output = model(features)\n",
    "\n",
    "    # Compute loss\n",
    "    loss = criterion(output, target)\n",
    "\n",
    "    # Backward pass and update\n",
    "    optimizer.zero_grad()\n",
    "    loss.backward()\n",
    "\n",
    "    optimizer.step()\n",
    "\n",
    " # Print loss\n",
    "    if epoch % 10 == 0:\n",
    "        losses.append(float(loss.item()))\n",
    "        # evaluate validation each time here:\n",
    "        valloss = criterion(model(val_features), val_target)\n",
    "        val_losses.append(float(valloss.item()))\n",
    "        print(f'Epoch {epoch}, Loss: {loss.item()}, validation loss {valloss.item()}')"
   ]
  },
  {
   "cell_type": "code",
   "execution_count": 27,
   "id": "b8dd73bf-0b8e-4946-84e6-1059f21afb23",
   "metadata": {},
   "outputs": [
    {
     "data": {
      "text/plain": [
       "[<matplotlib.lines.Line2D at 0x253542c80a0>]"
      ]
     },
     "execution_count": 27,
     "metadata": {},
     "output_type": "execute_result"
    },
    {
     "data": {
      "image/png": "[encoded data removed]",
      "text/plain": [
       "<Figure size 640x480 with 1 Axes>"
      ]
     },
     "metadata": {},
     "output_type": "display_data"
    }
   ],
   "source": [
    ",# plotting the losses in log plot\n",
    "plt.semilogy(losses,color='green')\n",
    "plt.semilogy(val_losses,color='red')\n"
   ]
  },
  {
   "cell_type": "code",
   "execution_count": 28,
   "id": "9dbe4c06",
   "metadata": {},
   "outputs": [],
   "source": [
    "#save model, later on we can directly use.\n",
    "torch.save(model, 'rotation_signed_model.pt')\n",
    "\n",
    "#we can use model from here  without running epochs\n",
    "#try printing\n",
    "#model = torch.load('rotation_signed_model.pt')"
   ]
  },
  {
   "cell_type": "markdown",
   "id": "bfc42d04-8d7c-4ef6-ba41-4d0c39f9b86d",
   "metadata": {},
   "source": [
    "### Evaluating the model over the test data"
   ]
  },
  {
   "cell_type": "code",
   "execution_count": 29,
   "id": "5849fdcc-e675-4465-8646-f9bddabce949",
   "metadata": {},
   "outputs": [
    {
     "name": "stdout",
     "output_type": "stream",
     "text": [
      "MSE over the model prediction: 0.24905971245770672\n"
     ]
    }
   ],
   "source": [
    "y_pred = model(torch.Tensor(backupfeatures))\n",
    "print(f\"MSE over the model prediction: {mean_absolute_error(backuptarget.tolist(), y_pred.tolist())}\")"
   ]
  },
  {
   "cell_type": "code",
   "execution_count": 30,
   "id": "5e1e8445",
   "metadata": {},
   "outputs": [],
   "source": [
    "prediction = model(torch.Tensor(backupfeatures))[:,0]\n",
    "prediction = prediction.detach().numpy().flatten()"
   ]
  },
  {
   "cell_type": "code",
   "execution_count": 34,
   "id": "a359c53d",
   "metadata": {},
   "outputs": [
    {
     "data": {
      "text/plain": [
       "[<matplotlib.lines.Line2D at 0x253554e0d30>]"
      ]
     },
     "execution_count": 34,
     "metadata": {},
     "output_type": "execute_result"
    },
    {
     "data": {
      "image/png": "[encoded data removed]",
      "text/plain": [
       "<Figure size 640x480 with 1 Axes>"
      ]
     },
     "metadata": {},
     "output_type": "display_data"
    }
   ],
   "source": [
    "# plot prediction and difference between prediction and actual target\n",
    "\n",
    "plt.plot(backuptarget.flatten(),color='green')"
   ]
  },
  {
   "cell_type": "markdown",
   "id": "661ebebd-4cd7-4967-912f-5252c13e6a4c",
   "metadata": {},
   "source": [
    "### Testing over the test data"
   ]
  },
  {
   "cell_type": "code",
   "execution_count": 35,
   "id": "eb4f5892",
   "metadata": {},
   "outputs": [
    {
     "data": {
      "text/plain": [
       "[<matplotlib.lines.Line2D at 0x25355555720>]"
      ]
     },
     "execution_count": 35,
     "metadata": {},
     "output_type": "execute_result"
    },
    {
     "data": {
      "image/png": "[encoded data removed]",
      "text/plain": [
       "<Figure size 640x480 with 1 Axes>"
      ]
     },
     "metadata": {},
     "output_type": "display_data"
    }
   ],
   "source": [
    "\n",
    "plt.plot(prediction,color='green')\n",
    "plt.plot(prediction-backuptarget.flatten(),color='red')"
   ]
  },
  {
   "cell_type": "code",
   "execution_count": null,
   "id": "00fba87c",
   "metadata": {},
   "outputs": [],
   "source": []
  },
  {
   "cell_type": "code",
   "execution_count": null,
   "id": "2d1f9771",
   "metadata": {},
   "outputs": [],
   "source": []
  }
 ],
 "metadata": {
  "kernelspec": {
   "display_name": "Python 3 (ipykernel)",
   "language": "python",
   "name": "python3"
  },
  "language_info": {
   "codemirror_mode": {
    "name": "ipython",
    "version": 3
   },
   "file_extension": ".py",
   "mimetype": "text/x-python",
   "name": "python",
   "nbconvert_exporter": "python",
   "pygments_lexer": "ipython3",
   "version": "3.9.13"
  },
  "vscode": {
   "interpreter": {
    "hash": "26de051ba29f2982a8de78e945f0abaf191376122a1563185a90213a26c5da77"
   }
  }
 },
 "nbformat": 4,
 "nbformat_minor": 5
}
